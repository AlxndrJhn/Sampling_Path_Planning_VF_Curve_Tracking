{
 "cells": [
  {
   "cell_type": "markdown",
   "metadata": {
    "ExecuteTime": {
     "end_time": "2016-04-12T11:53:30.250034",
     "start_time": "2016-04-12T11:53:30.235961"
    },
    "collapsed": true,
    "run_control": {
     "marked": false
    }
   },
   "source": [
    "# Implicit Trajectory combined with RRT #\n",
    "- Work space: 3D with obstacles\n",
    "- Obstacle type: static and known\n",
    "- Agent Model: Dubins airplane (Owen2015)\n",
    "- Integration Algorithm: 4th Order Runge Kutta\n",
    "- Implicit Curve: Time-invariant Circle\n",
    "- Distance Metric: admissionable heuristic, based on time-optimal dubins-airplane paths (altitude difference is integrated in a linear fashion)"
   ]
  },
  {
   "cell_type": "code",
   "execution_count": null,
   "metadata": {
    "collapsed": true,
    "run_control": {
     "marked": false
    }
   },
   "outputs": [],
   "source": [
    "# load the code\n",
    "%run 'MAIN_CODE.ipynb'"
   ]
  },
  {
   "cell_type": "markdown",
   "metadata": {
    "ExecuteTime": {
     "end_time": "2016-04-12T11:00:30.033027",
     "start_time": "2016-04-12T11:00:29.977472"
    },
    "collapsed": false,
    "run_control": {
     "marked": false
    }
   },
   "source": [
    "# Performance Experiments"
   ]
  },
  {
   "cell_type": "markdown",
   "metadata": {
    "collapsed": true,
    "run_control": {
     "marked": false
    }
   },
   "source": [
    "## 1st stage: VF-RRT+impl.Curve vs. RRT+goal bias"
   ]
  },
  {
   "cell_type": "code",
   "execution_count": 114,
   "metadata": {
    "ExecuteTime": {
     "end_time": "2016-04-15T15:05:11.418678",
     "start_time": "2016-04-15T15:05:11.266759"
    },
    "collapsed": true,
    "run_control": {
     "marked": true
    }
   },
   "outputs": [],
   "source": [
    "import time\n",
    "\n",
    "#Parameters in General\n",
    "NumOfExperiments = 10\n",
    "qstart = np.array([10.,10.,3.,np.pi])# specific initial point\n",
    "MaxNodes = 300\n",
    "MAXiter = MaxNodes*3\n",
    "\n",
    "# Experiment parameters for VF-RRT\n",
    "lambdaNsteps=40\n",
    "Es=0.4\n",
    "lamdb=1.0\n",
    "\n",
    "# Experiment parameters for naive RRT\n",
    "goalBias=0.05"
   ]
  },
  {
   "cell_type": "code",
   "execution_count": 96,
   "metadata": {
    "ExecuteTime": {
     "end_time": "2016-04-15T09:20:10.224063",
     "start_time": "2016-04-15T09:20:10.036398"
    },
    "collapsed": true,
    "run_control": {
     "marked": false
    }
   },
   "outputs": [],
   "source": [
    "#specific obstacles, fixed, known, not moving\n",
    "Obstacles = CreateSphericalObstacles(N=100,r=2.)\n",
    "while isBlocked(qstart, Obstacles):\n",
    "    Obstacles = CreateSphericalObstacles(N=100,r=2.)"
   ]
  },
  {
   "cell_type": "code",
   "execution_count": 115,
   "metadata": {
    "ExecuteTime": {
     "end_time": "2016-04-15T15:05:54.214087",
     "start_time": "2016-04-15T15:05:11.427149"
    },
    "collapsed": false,
    "run_control": {
     "marked": true
    },
    "scrolled": false
   },
   "outputs": [
    {
     "name": "stdout",
     "output_type": "stream",
     "text": [
      "#\tt\tsuccess\twork\tupstr\tnodes\titer\teuDist\tangDist\n",
      "====VFRRT======\n",
      "0\t1.442\tTrue\t11.739\t105.261\t191\t233\t12.172\t30.684\n",
      "1\t2.961\tFalse\t\t\t300\t363\t\t\n",
      "2\t1.238\tTrue\t11.794\t107.206\t181\t210\t12.436\t30.039\n",
      "3\t2.075\tTrue\t11.631\t109.369\t232\t334\t12.598\t37.879\n",
      "4\t2.350\tFalse\t\t\t300\t302\t\t\n",
      "5\t1.236\tTrue\t11.795\t105.205\t184\t211\t12.181\t27.447\n",
      "6\t1.210\tTrue\t11.835\t106.165\t181\t209\t12.275\t28.928\n",
      "7\t1.003\tTrue\t11.780\t106.220\t168\t172\t12.289\t29.051\n",
      "8\t1.527\tTrue\t12.009\t106.991\t205\t254\t12.378\t28.098\n",
      "9\t2.596\tFalse\t\t\t300\t329\t\t\n",
      "\n",
      "Stats for successful runs only\n",
      "70%\t1.003\tTrue\t11.631\t105.205\t168\t172\t12.172\t27.447\tmin\n",
      "70%\t1.390\tTrue\t11.797\t106.631\t191\t231\t12.333\t30.304\tmean\n",
      "70%\t2.075\tTrue\t12.009\t109.369\t232\t334\t12.598\t37.879\tmax\n",
      "\n",
      "70%\t0.321\tTrue\t0.105\t1.323\t19\t47\t0.140\t3.253\tstd\n",
      "\n",
      "======RRT======\n",
      "0\t1.731\tFalse\t\t\t300\t329\t\t\n",
      "1\t1.786\tFalse\t\t\t300\t340\t\t\n",
      "2\t1.554\tFalse\t\t\t300\t300\t\t\n",
      "3\t1.510\tFalse\t\t\t300\t302\t\t\n",
      "4\t1.565\tFalse\t\t\t300\t313\t\t\n",
      "5\t1.533\tFalse\t\t\t300\t299\t\t\n",
      "6\t1.574\tFalse\t\t\t300\t314\t\t\n",
      "7\t1.499\tFalse\t\t\t300\t299\t\t\n",
      "8\t1.650\tFalse\t\t\t300\t325\t\t\n",
      "9\t1.563\tFalse\t\t\t300\t310\t\t\n"
     ]
    },
    {
     "ename": "ValueError",
     "evalue": "zero-size array to reduction operation minimum which has no identity",
     "output_type": "error",
     "traceback": [
      "\u001b[1;31m---------------------------------------------------------------------------\u001b[0m",
      "\u001b[1;31mAttributeError\u001b[0m                            Traceback (most recent call last)",
      "\u001b[1;32m/home/alex/anaconda3/lib/python3.5/site-packages/numpy/core/fromnumeric.py\u001b[0m in \u001b[0;36mamin\u001b[1;34m(a, axis, out, keepdims)\u001b[0m\n\u001b[0;32m   2345\u001b[0m         \u001b[1;32mtry\u001b[0m\u001b[1;33m:\u001b[0m\u001b[1;33m\u001b[0m\u001b[0m\n\u001b[1;32m-> 2346\u001b[1;33m             \u001b[0mamin\u001b[0m \u001b[1;33m=\u001b[0m \u001b[0ma\u001b[0m\u001b[1;33m.\u001b[0m\u001b[0mmin\u001b[0m\u001b[1;33m\u001b[0m\u001b[0m\n\u001b[0m\u001b[0;32m   2347\u001b[0m         \u001b[1;32mexcept\u001b[0m \u001b[0mAttributeError\u001b[0m\u001b[1;33m:\u001b[0m\u001b[1;33m\u001b[0m\u001b[0m\n",
      "\u001b[1;31mAttributeError\u001b[0m: 'list' object has no attribute 'min'",
      "\nDuring handling of the above exception, another exception occurred:\n",
      "\u001b[1;31mValueError\u001b[0m                                Traceback (most recent call last)",
      "\u001b[1;32m<ipython-input-115-22e62fe2377b>\u001b[0m in \u001b[0;36m<module>\u001b[1;34m()\u001b[0m\n\u001b[0;32m    123\u001b[0m print('\\nStats for successful runs only\\n%.1d%%\\t%.3f\\tTrue\\t%.3f\\t%.3f\\t%d\\t%d\\t%.3f\\t%.3f\\tmin' % (\n\u001b[0;32m    124\u001b[0m                                                                 \u001b[0mlen\u001b[0m\u001b[1;33m(\u001b[0m\u001b[0mRRTsuccess\u001b[0m\u001b[1;33m)\u001b[0m\u001b[1;33m*\u001b[0m\u001b[1;36m100.\u001b[0m\u001b[1;33m/\u001b[0m\u001b[0mNumOfExperiments\u001b[0m\u001b[1;33m,\u001b[0m\u001b[1;33m\u001b[0m\u001b[0m\n\u001b[1;32m--> 125\u001b[1;33m                                                                 \u001b[0mnp\u001b[0m\u001b[1;33m.\u001b[0m\u001b[0mmin\u001b[0m\u001b[1;33m(\u001b[0m\u001b[0mRRTexetime\u001b[0m\u001b[1;33m)\u001b[0m\u001b[1;33m,\u001b[0m\u001b[1;33m\u001b[0m\u001b[0m\n\u001b[0m\u001b[0;32m    126\u001b[0m                                                                 \u001b[0mnp\u001b[0m\u001b[1;33m.\u001b[0m\u001b[0mmin\u001b[0m\u001b[1;33m(\u001b[0m\u001b[0mRRTwork\u001b[0m\u001b[1;33m)\u001b[0m\u001b[1;33m,\u001b[0m\u001b[1;33m\u001b[0m\u001b[0m\n\u001b[0;32m    127\u001b[0m                                                                 \u001b[0mnp\u001b[0m\u001b[1;33m.\u001b[0m\u001b[0mmin\u001b[0m\u001b[1;33m(\u001b[0m\u001b[0mRRTupstream\u001b[0m\u001b[1;33m)\u001b[0m\u001b[1;33m,\u001b[0m\u001b[1;33m\u001b[0m\u001b[0m\n",
      "\u001b[1;32m/home/alex/anaconda3/lib/python3.5/site-packages/numpy/core/fromnumeric.py\u001b[0m in \u001b[0;36mamin\u001b[1;34m(a, axis, out, keepdims)\u001b[0m\n\u001b[0;32m   2347\u001b[0m         \u001b[1;32mexcept\u001b[0m \u001b[0mAttributeError\u001b[0m\u001b[1;33m:\u001b[0m\u001b[1;33m\u001b[0m\u001b[0m\n\u001b[0;32m   2348\u001b[0m             return _methods._amin(a, axis=axis,\n\u001b[1;32m-> 2349\u001b[1;33m                                   out=out, keepdims=keepdims)\n\u001b[0m\u001b[0;32m   2350\u001b[0m         \u001b[1;31m# NOTE: Dropping the keepdims parameter\u001b[0m\u001b[1;33m\u001b[0m\u001b[1;33m\u001b[0m\u001b[0m\n\u001b[0;32m   2351\u001b[0m         \u001b[1;32mreturn\u001b[0m \u001b[0mamin\u001b[0m\u001b[1;33m(\u001b[0m\u001b[0maxis\u001b[0m\u001b[1;33m=\u001b[0m\u001b[0maxis\u001b[0m\u001b[1;33m,\u001b[0m \u001b[0mout\u001b[0m\u001b[1;33m=\u001b[0m\u001b[0mout\u001b[0m\u001b[1;33m)\u001b[0m\u001b[1;33m\u001b[0m\u001b[0m\n",
      "\u001b[1;32m/home/alex/anaconda3/lib/python3.5/site-packages/numpy/core/_methods.py\u001b[0m in \u001b[0;36m_amin\u001b[1;34m(a, axis, out, keepdims)\u001b[0m\n\u001b[0;32m     27\u001b[0m \u001b[1;33m\u001b[0m\u001b[0m\n\u001b[0;32m     28\u001b[0m \u001b[1;32mdef\u001b[0m \u001b[0m_amin\u001b[0m\u001b[1;33m(\u001b[0m\u001b[0ma\u001b[0m\u001b[1;33m,\u001b[0m \u001b[0maxis\u001b[0m\u001b[1;33m=\u001b[0m\u001b[1;32mNone\u001b[0m\u001b[1;33m,\u001b[0m \u001b[0mout\u001b[0m\u001b[1;33m=\u001b[0m\u001b[1;32mNone\u001b[0m\u001b[1;33m,\u001b[0m \u001b[0mkeepdims\u001b[0m\u001b[1;33m=\u001b[0m\u001b[1;32mFalse\u001b[0m\u001b[1;33m)\u001b[0m\u001b[1;33m:\u001b[0m\u001b[1;33m\u001b[0m\u001b[0m\n\u001b[1;32m---> 29\u001b[1;33m     \u001b[1;32mreturn\u001b[0m \u001b[0mumr_minimum\u001b[0m\u001b[1;33m(\u001b[0m\u001b[0ma\u001b[0m\u001b[1;33m,\u001b[0m \u001b[0maxis\u001b[0m\u001b[1;33m,\u001b[0m \u001b[1;32mNone\u001b[0m\u001b[1;33m,\u001b[0m \u001b[0mout\u001b[0m\u001b[1;33m,\u001b[0m \u001b[0mkeepdims\u001b[0m\u001b[1;33m)\u001b[0m\u001b[1;33m\u001b[0m\u001b[0m\n\u001b[0m\u001b[0;32m     30\u001b[0m \u001b[1;33m\u001b[0m\u001b[0m\n\u001b[0;32m     31\u001b[0m \u001b[1;32mdef\u001b[0m \u001b[0m_sum\u001b[0m\u001b[1;33m(\u001b[0m\u001b[0ma\u001b[0m\u001b[1;33m,\u001b[0m \u001b[0maxis\u001b[0m\u001b[1;33m=\u001b[0m\u001b[1;32mNone\u001b[0m\u001b[1;33m,\u001b[0m \u001b[0mdtype\u001b[0m\u001b[1;33m=\u001b[0m\u001b[1;32mNone\u001b[0m\u001b[1;33m,\u001b[0m \u001b[0mout\u001b[0m\u001b[1;33m=\u001b[0m\u001b[1;32mNone\u001b[0m\u001b[1;33m,\u001b[0m \u001b[0mkeepdims\u001b[0m\u001b[1;33m=\u001b[0m\u001b[1;32mFalse\u001b[0m\u001b[1;33m)\u001b[0m\u001b[1;33m:\u001b[0m\u001b[1;33m\u001b[0m\u001b[0m\n",
      "\u001b[1;31mValueError\u001b[0m: zero-size array to reduction operation minimum which has no identity"
     ]
    }
   ],
   "source": [
    "# initilize\n",
    "VFRRTnodes = list()\n",
    "VFRRTupstream = list()\n",
    "VFRRTnodes = list()\n",
    "VFRRTexetime = list()\n",
    "VFRRTwork = list()\n",
    "VFRRTsuccess = list()\n",
    "VFRRTiter = list()\n",
    "VFRRTeuclLength = list()\n",
    "VFRRTanglLength = list()\n",
    "    \n",
    "RRTnodes = list()\n",
    "RRTupstream = list()\n",
    "RRTnodes = list()\n",
    "RRTexetime = list()\n",
    "RRTwork = list()\n",
    "RRTsuccess = list()\n",
    "RRTiter = list()\n",
    "RRTeuclLength = list()\n",
    "RRTanglLength = list()\n",
    "\n",
    "print('#\\tt\\tsuccess\\twork\\tupstr\\tnodes\\titer\\teuDist\\tangDist')\n",
    "print('====VFRRT======')\n",
    "for IofExp in range(0,NumOfExperiments):\n",
    "    # Execute and return Tree\n",
    "    stampBegin = time.process_time()\n",
    "    T = VFRRT(qstart,VF,lambdaNsteps,Es,lamdb,MaxNodes,MAXiter,Obstacles,bounds=bounds)\n",
    "    CPUtimePassed = time.process_time()-stampBegin\n",
    "\n",
    "    \n",
    "    if T.successful:\n",
    "        VFRRTexetime.append(CPUtimePassed)\n",
    "        VFRRTiter.append(T.iterations)\n",
    "        VFRRTsuccess.append(IofExp)\n",
    "        IDpath,Datapath,Edgepath = T.get_solution()\n",
    "        work,upstream = T.get_WorkAndUpstreamOfPath(Datapath)\n",
    "        euclDist,anglDist = T.get_length(Datapath)\n",
    "        VFRRTnodes.append(T.NumNodes)\n",
    "        VFRRTupstream.append(upstream)\n",
    "        VFRRTwork.append(work)\n",
    "        VFRRTeuclLength.append(euclDist)\n",
    "        VFRRTanglLength.append(anglDist)\n",
    "        \n",
    "        print('%d\\t%.3f\\tTrue\\t%.3f\\t%.3f\\t%d\\t%d\\t%.3f\\t%.3f' % (IofExp,CPUtimePassed,work,upstream,T.NumNodes,T.iterations,euclDist,anglDist))\n",
    "    else:\n",
    "        print('%d\\t%.3f\\tFalse\\t\\t\\t%d\\t%d\\t\\t' % (IofExp,CPUtimePassed,T.NumNodes,T.iterations))\n",
    "    \n",
    "    #T.plot(DrawTrajectory=True,DrawCollisionNodes=True)\n",
    "    #T.plot(obs=Obstacles,OnlyClosestObs=True,DrawCollisionNodes=True)\n",
    "    #DrawStats(T)\n",
    "\n",
    "print('\\nStats for successful runs only\\n%.1d%%\\t%.3f\\tTrue\\t%.3f\\t%.3f\\t%d\\t%d\\t%.3f\\t%.3f\\tmin' % (\n",
    "                                                                len(VFRRTsuccess)*100./NumOfExperiments,\n",
    "                                                                np.min(VFRRTexetime),\n",
    "                                                                np.min(VFRRTwork),\n",
    "                                                                np.min(VFRRTupstream),\n",
    "                                                                np.min(VFRRTnodes),\n",
    "                                                                np.min(VFRRTiter),\n",
    "                                                                np.min(VFRRTeuclLength),\n",
    "                                                                np.min(VFRRTanglLength)))\n",
    "print('%.1d%%\\t%.3f\\tTrue\\t%.3f\\t%.3f\\t%d\\t%d\\t%.3f\\t%.3f\\tmean' % (\n",
    "                                                                len(VFRRTsuccess)*100./NumOfExperiments,\n",
    "                                                                np.mean(VFRRTexetime),\n",
    "                                                                np.mean(VFRRTwork),\n",
    "                                                                np.mean(VFRRTupstream),\n",
    "                                                                np.mean(VFRRTnodes),\n",
    "                                                                np.mean(VFRRTiter),\n",
    "                                                                np.mean(VFRRTeuclLength),\n",
    "                                                                np.mean(VFRRTanglLength)))\n",
    "print('%.1d%%\\t%.3f\\tTrue\\t%.3f\\t%.3f\\t%d\\t%d\\t%.3f\\t%.3f\\tmax' % (\n",
    "                                                                len(VFRRTsuccess)*100./NumOfExperiments,\n",
    "                                                                np.max(VFRRTexetime),\n",
    "                                                                np.max(VFRRTwork),\n",
    "                                                                np.max(VFRRTupstream),\n",
    "                                                                np.max(VFRRTnodes),\n",
    "                                                                np.max(VFRRTiter),\n",
    "                                                                np.max(VFRRTeuclLength),\n",
    "                                                                np.max(VFRRTanglLength)))\n",
    "print('\\n%.1d%%\\t%.3f\\tTrue\\t%.3f\\t%.3f\\t%d\\t%d\\t%.3f\\t%.3f\\tstd\\n' % (\n",
    "                                                                len(VFRRTsuccess)*100./NumOfExperiments,\n",
    "                                                                np.std(VFRRTexetime),\n",
    "                                                                np.std(VFRRTwork),\n",
    "                                                                np.std(VFRRTupstream),\n",
    "                                                                np.std(VFRRTnodes),\n",
    "                                                                np.std(VFRRTiter),\n",
    "                                                                np.std(VFRRTeuclLength),\n",
    "                                                                np.std(VFRRTanglLength)))\n",
    "print('======RRT======')\n",
    "for IofExp in range(0,NumOfExperiments):\n",
    "    gt = np.mod(IofExp/NumOfExperiments*2*np.pi+np.pi/2,2*np.pi)\n",
    "    qgoal=(\n",
    "        xc+r*np.cos(2*np.pi*IofExp/NumOfExperiments),\n",
    "        yc+r*np.sin(2*np.pi*IofExp/NumOfExperiments),\n",
    "        zc,\n",
    "        gt\n",
    "    )\n",
    "    stampBegin = time.process_time()\n",
    "    #pdb.set_trace()\n",
    "    T = RRT(qstart,qgoal,MaxNodes,MAXiter,Obstacles,bounds,goalBias)\n",
    "    CPUtimePassed = time.process_time()-stampBegin\n",
    "\n",
    "    \n",
    "    if T.successful:\n",
    "        RRTexetime.append(CPUtimePassed)\n",
    "        RRTiter.append(T.iterations)\n",
    "        T.VF = VF\n",
    "        RRTsuccess.append(IofExp)\n",
    "        IDpath,Datapath,Edgepath = T.get_solution()\n",
    "        work,upstream = T.get_WorkAndUpstreamOfPath(Datapath)\n",
    "        euclDist,anglDist = T.get_length(Datapath)\n",
    "        RRTnodes.append(T.NumNodes)\n",
    "        RRTupstream.append(upstream)\n",
    "        RRTwork.append(work)\n",
    "        RRTeuclLength.append(euclDist)\n",
    "        RRTanglLength.append(anglDist)\n",
    "        \n",
    "        print('%d\\t%.3f\\tTrue\\t%.3f\\t%.3f\\t%d\\t%d\\t%.3f\\t%.3f' % (IofExp,CPUtimePassed,work,upstream,T.NumNodes,T.iterations,euclDist,anglDist))\n",
    "    else:\n",
    "        print('%d\\t%.3f\\tFalse\\t\\t\\t%d\\t%d\\t\\t' % (IofExp,CPUtimePassed,T.NumNodes,T.iterations))\n",
    "    #T.plot(obs=Obstacles,OnlyClosestObs=True,DrawCollisionNodes=True)\n",
    "#plt.show()\n",
    "\n",
    "print('\\nStats for successful runs only\\n%.1d%%\\t%.3f\\tTrue\\t%.3f\\t%.3f\\t%d\\t%d\\t%.3f\\t%.3f\\tmin' % (\n",
    "                                                                len(RRTsuccess)*100./NumOfExperiments,\n",
    "                                                                np.min(RRTexetime),\n",
    "                                                                np.min(RRTwork),\n",
    "                                                                np.min(RRTupstream),\n",
    "                                                                np.min(RRTnodes),\n",
    "                                                                np.min(RRTiter),\n",
    "                                                                np.min(RRTeuclLength),\n",
    "                                                                np.min(RRTanglLength)))\n",
    "\n",
    "print('%.1d%%\\t%.3f\\tTrue\\t%.3f\\t%.3f\\t%d\\t%d\\t%.3f\\t%.3f\\tmean' % (\n",
    "                                                                len(RRTsuccess)*100./NumOfExperiments,\n",
    "                                                                np.mean(RRTexetime),\n",
    "                                                                np.mean(RRTwork),\n",
    "                                                                np.mean(RRTupstream),\n",
    "                                                                np.mean(RRTnodes),\n",
    "                                                                np.mean(RRTiter),\n",
    "                                                                np.mean(RRTeuclLength),\n",
    "                                                                np.mean(RRTanglLength)))\n",
    "print('%.1d%%\\t%.3f\\tTrue\\t%.3f\\t%.3f\\t%d\\t%d\\t%.3f\\t%.3f\\tmax' % (\n",
    "                                                                len(RRTsuccess)*100./NumOfExperiments,\n",
    "                                                                np.max(RRTexetime),\n",
    "                                                                np.max(RRTwork),\n",
    "                                                                np.max(RRTupstream),\n",
    "                                                                np.max(RRTnodes),\n",
    "                                                                np.max(RRTiter),\n",
    "                                                                np.max(RRTeuclLength),\n",
    "                                                                np.max(RRTanglLength)))\n",
    "print('\\n%.1d%%\\t%.3f\\tTrue\\t%.3f\\t%.3f\\t%d\\t%d\\t%.3f\\t%.3f\\tstd\\n' % (\n",
    "                                                                len(RRTsuccess)*100./NumOfExperiments,\n",
    "                                                                np.std(RRTexetime),\n",
    "                                                                np.std(RRTwork),\n",
    "                                                                np.std(RRTupstream),\n",
    "                                                                np.std(RRTnodes),\n",
    "                                                                np.std(RRTiter),\n",
    "                                                                np.std(RRTeuclLength),\n",
    "                                                                np.std(RRTanglLength)))\n",
    "\n"
   ]
  },
  {
   "cell_type": "code",
   "execution_count": null,
   "metadata": {
    "collapsed": true,
    "run_control": {
     "marked": false
    }
   },
   "outputs": [],
   "source": []
  }
 ],
 "metadata": {
  "kernelspec": {
   "display_name": "Python 3",
   "language": "python",
   "name": "python3"
  },
  "language_info": {
   "codemirror_mode": {
    "name": "ipython",
    "version": 3
   },
   "file_extension": ".py",
   "mimetype": "text/x-python",
   "name": "python",
   "nbconvert_exporter": "python",
   "pygments_lexer": "ipython3",
   "version": "3.5.1"
  },
  "notify_time": "5",
  "toc": {
   "toc_cell": false,
   "toc_number_sections": false,
   "toc_section_display": "block",
   "toc_threshold": 6,
   "toc_window_display": true
  },
  "toc_position": {
   "height": "461px",
   "left": "1158px",
   "right": "3px",
   "top": "134px",
   "width": "279px"
  }
 },
 "nbformat": 4,
 "nbformat_minor": 0
}
