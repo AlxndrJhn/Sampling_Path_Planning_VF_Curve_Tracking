{
 "cells": [
  {
   "cell_type": "markdown",
   "metadata": {
    "collapsed": false,
    "run_control": {
     "marked": false
    }
   },
   "source": [
    "# Implicit Trajectory combined with RRT #\n",
    "- Work space: 3D with obstacles\n",
    "- Obstacle type: static and known\n",
    "- Agent Model: dubins airplane (Chitsaz2007)\n",
    "- Integration Algorithm: 4th Order Runge Kutta\n",
    "- Implicit Curve: Time-invariant Circle\n",
    "- Distance Metric: time-optimal dubins-airplane paths"
   ]
  },
  {
   "cell_type": "markdown",
   "metadata": {
    "run_control": {
     "marked": false
    }
   },
   "source": [
    "# Global Definitions #"
   ]
  },
  {
   "cell_type": "code",
   "execution_count": 1,
   "metadata": {
    "collapsed": true,
    "run_control": {
     "marked": false
    }
   },
   "outputs": [],
   "source": [
    "import numpy as np\n",
    "\n",
    "inputBounds = dict()\n",
    "inputBounds[\"vthetamin\"] = -np.pi/10\n",
    "inputBounds[\"vthetamax\"] =  np.pi/10\n",
    "inputBounds[\"vzmin\"] = -1.\n",
    "inputBounds[\"vzmax\"] =  1.\n",
    "inputBounds[\"vfmin\"] = 1. # minimum forward velocity\n",
    "inputBounds[\"vfmax\"] = 1.\n",
    "\n",
    "minTurningRadius = inputBounds[\"vfmax\"]/inputBounds[\"vthetamax\"]/(2*np.pi)\n",
    "TimeStep = 0.1\n",
    "DistStep = TimeStep*inputBounds[\"vfmax\"]\n",
    "\n",
    "# Sample Space Environment is a 3D cube\n",
    "bounds = dict()\n",
    "bounds[\"xmin\"] = -15\n",
    "bounds[\"xmax\"] =  15\n",
    "bounds[\"ymin\"] = -15\n",
    "bounds[\"ymax\"] =  15\n",
    "bounds[\"zmin\"] = -15\n",
    "bounds[\"zmax\"] =  15\n",
    "\n",
    "# RK4 for time-invariant function f, stepsize h and initial configuration y0\n",
    "def rk4_int(f,y0,h):\n",
    "    k1=f(y0)\n",
    "    k2=f(y0+h/2*k1)\n",
    "    k3=f(y0+h/2*k2)\n",
    "    k4=f(y0+h*k3)\n",
    "    \n",
    "    return y0+h/6*(k1+2*k2+2*k3+k4)"
   ]
  },
  {
   "cell_type": "markdown",
   "metadata": {
    "run_control": {
     "marked": false
    }
   },
   "source": [
    "# Simple UAV 3D Model\n",
    "Taken from Gonçalvez et al. 2011\n",
    "See (3) for the state derivative description ($\\theta_i$ is in the text paragraph below (3))"
   ]
  },
  {
   "cell_type": "code",
   "execution_count": 2,
   "metadata": {
    "collapsed": false,
    "run_control": {
     "marked": false
    }
   },
   "outputs": [],
   "source": [
    "import numpy as np\n",
    "\n",
    "# time derivative of the state vector\n",
    "def dq(q,u):\n",
    "    # unpack the state vector\n",
    "    x = q[0]\n",
    "    y = q[1]\n",
    "    z = q[2]\n",
    "    theta = q[3]\n",
    "\n",
    "    # unpack the input vector\n",
    "    vtheta = u[0]\n",
    "    vz = u[1]\n",
    "    vf = u[2]\n",
    "    \n",
    "    # check the minimum forward velocity\n",
    "    if vf < inputBounds[\"vfmin\"] or vf > inputBounds[\"vfmax\"]:\n",
    "        raise ValueError('The input forward velocity is out of bound')\n",
    "    if vz < inputBounds[\"vzmin\"] or vz > inputBounds[\"vzmax\"]:\n",
    "        raise ValueError('The input z velocity is out of bound')\n",
    "    if vtheta < inputBounds[\"vthetamin\"] or vtheta > inputBounds[\"vthetamax\"]:\n",
    "        raise ValueError('The input angular velocity is out of bound')\n",
    "        \n",
    "    # compute deltas\n",
    "    dx = vf*np.cos(theta)\n",
    "    dy = vf*np.sin(theta)\n",
    "    dz = vz\n",
    "    dtheta = vtheta\n",
    "    \n",
    "    # state time derivative\n",
    "    dq = np.zeros(4)\n",
    "    dq[0] = dx\n",
    "    dq[1] = dy\n",
    "    dq[2] = dz\n",
    "    dq[3] = dtheta\n",
    "    \n",
    "    # return the state time derivative\n",
    "    return dq\n"
   ]
  },
  {
   "cell_type": "markdown",
   "metadata": {
    "run_control": {
     "marked": false
    }
   },
   "source": [
    "# The Vector-Field VF(x) #\n",
    "(taken from Goncalves2011, see (1) and (2) for the definitions of $\\alpha_i$ )"
   ]
  },
  {
   "cell_type": "code",
   "execution_count": 3,
   "metadata": {
    "collapsed": false,
    "run_control": {
     "marked": false
    }
   },
   "outputs": [],
   "source": [
    "import numpy as np\n",
    "\n",
    "# super simple VF wih a limit cycle in a plane ring in he 3D space\n",
    "\n",
    "# center of the ring that will span in the xy-plane with unifom heigt zc\n",
    "xc = 0.0\n",
    "yc = 0.0\n",
    "zc = 0.0\n",
    "\n",
    "# radius\n",
    "r = 3.0\n",
    "\n",
    "# weights\n",
    "wc = 2.0\n",
    "watt = 10.0\n",
    "\n",
    "#Vector Field function as R³->R³\n",
    "def VF(pos,goalCheck=False,otherDir=False):\n",
    "    x = pos[0]\n",
    "    y = pos[1]\n",
    "    z = pos[2]\n",
    "\n",
    "    alpha = np.arctan2(y-yc,x-xc)\n",
    "\n",
    "    # circulating term, unit vector perpencular to the circle\n",
    "    circ = np.zeros(3)\n",
    "    circ[0] = -np.sin(alpha)\n",
    "    circ[1] = np.cos(alpha)\n",
    "\n",
    "    # attracting term, unit vector towards the ring\n",
    "    xt = xc-x\n",
    "    yt = yc-y\n",
    "    zt = zc-z\n",
    "    l = np.linalg.norm([xt,yt])\n",
    "\n",
    "    att = (l-r)/l*np.array([xt,yt,0])\n",
    "    att[2] = zt\n",
    "    \n",
    "    if goalCheck:\n",
    "        #pdb.set_trace()\n",
    "        angleOfCirc = np.arctan2(circ[1],circ[0])\n",
    "        anglDist = np.arctan2(np.sin(angleOfCirc-pos[3]), np.cos(angleOfCirc-pos[3]))\n",
    "        if np.abs(l-r)<0.1 and np.abs(anglDist)<10/180*np.pi and np.abs(zt)<0.1:\n",
    "            return True\n",
    "        else:\n",
    "            return False\n",
    "    \n",
    "\n",
    "    # weighting\n",
    "    if otherDir:\n",
    "        vec = -wc*circ+watt*att\n",
    "    else:\n",
    "        vec =  wc*circ+watt*att\n",
    "    \n",
    "    return vec/np.linalg.norm(vec)\n",
    "\n",
    "def VFangle(pos):\n",
    "    v = VF(pos)\n",
    "    a = np.arctan2(v[1],v[0])\n",
    "    if a<0:\n",
    "        a+=2*np.pi\n",
    "    \n",
    "    return a\n",
    "\n",
    "# just show some integral curve\n",
    "from scipy.integrate import odeint\n",
    "import matplotlib as mpl\n",
    "from mpl_toolkits.mplot3d import Axes3D\n",
    "import numpy as np\n",
    "import matplotlib.pyplot as plt\n",
    "\n",
    "\n",
    "pos = [3.0, 3.0, 3.0]\n",
    "\n",
    "def f(pos,t0):\n",
    "    return VF(pos)*0.1\n",
    "\n",
    "#curve2 = odeint(func=f,y0=pos,t=range(0,400))\n",
    "curve=np.empty([4000,3])\n",
    "for i in range(0,4000):\n",
    "    curve[i,:] = pos\n",
    "    pos = rk4_int(VF,pos,0.1)\n",
    "\n",
    "mpl.rcParams['legend.fontsize'] = 10\n",
    "\n",
    "#fig = plt.figure()\n",
    "#ax = fig.gca(projection='3d')\n",
    "#ax.plot(curve[:,0], curve[:,1], curve[:,2], label='rk4')\n",
    "#ax.plot(curve2[:,0], curve2[:,1], curve2[:,2], label='odeint')\n",
    "\n",
    "#ax.legend()\n",
    "\n",
    "#plt.show()"
   ]
  },
  {
   "cell_type": "markdown",
   "metadata": {
    "run_control": {
     "marked": false
    }
   },
   "source": [
    "# Tree Class #"
   ]
  },
  {
   "cell_type": "code",
   "execution_count": 4,
   "metadata": {
    "collapsed": false,
    "run_control": {
     "marked": false
    }
   },
   "outputs": [],
   "source": [
    "import numpy as np\n",
    "# Tree Data Structure\n",
    "class Tree(object):\n",
    "    def __init__(self,data,VF,lambdaNsteps,Es,lamdb,qfinal=0,connect=False):\n",
    "        self.data = list([data])\n",
    "        self.parent = list([-1])\n",
    "        self.edges = list([-1])\n",
    "        self.work = list([0.0])\n",
    "        self.upstream = list([0.0])\n",
    "        self.NumNodes = 1\n",
    "        self.cost = list([0.0])\n",
    "        self.VF = VF\n",
    "        self.additionalData = []\n",
    "        self.collisionNodes = []\n",
    "        self.collisions = 0\n",
    "        self.qfinal = qfinal\n",
    "        self.connect = connect\n",
    "        self.iterations = 0\n",
    "        self.dists = list([])\n",
    "        \n",
    "        # special VF-RRT properties\n",
    "        self.step = 1\n",
    "        self.lambdaNsteps = lambdaNsteps\n",
    "        self.lambd = lamdb # TODO: tune (0,inf) where the bigger, the more it follows the VF\n",
    "        self.nqeff = 1.0\n",
    "        self.nqineff = 0.0\n",
    "        self.Eineff = 1.0\n",
    "        self.Es = Es # (0,1)\n",
    "\n",
    "    def add_child(self, parent, data, edge, additionalData=[]):\n",
    "        self.data.append(data)\n",
    "        self.parent.append(parent)\n",
    "        self.edges.append(edge)\n",
    "        self.cost.append(self.cost[parent]+TimeStep)\n",
    "        self.additionalData.append(additionalData)\n",
    "        \n",
    "        # calculate the work\n",
    "        c = np.array(data[0:3])\n",
    "        p = np.array(self.get_data(parent)[0:3])\n",
    "        vec = c-p # R³ displacement vector, parent to child\n",
    "        vfield = self.VF(p)\n",
    "        self.work.append(self.work[parent]+np.dot(vec,vfield))\n",
    "        self.upstream.append(self.upstream[parent]+1-np.dot(vec,vfield)) # -1 because the VF is unitary\n",
    "        \n",
    "        self.NumNodes += 1\n",
    "        \n",
    "    def get_children(self,node):\n",
    "        return [i for i, j in enumerate(self.parent) if j == node]\n",
    "    \n",
    "    def add_collision(self,data):\n",
    "        self.collisionNodes.append(data)\n",
    "    \n",
    "    def get_data(self,node):\n",
    "        return self.data[node]\n",
    "    \n",
    "    def get_solution(self,nodeID=-1):\n",
    "        if nodeID is -1:\n",
    "            nodeID = self.NumNodes-1\n",
    "            \n",
    "        IDpath = [nodeID]\n",
    "        Datapath = [self.data[nodeID]]\n",
    "        Edgepath = [self.edges[nodeID]]\n",
    "        while self.parent[recursivePath[-1]] is not -1:\n",
    "            IDpath.append(self.parent[recursivePath[-1]])\n",
    "            Datapath.append(self.parent[recursivePath[-1]])\n",
    "            Edgepath.append(self.edges[recursivePath[-1]])\n",
    "            \n",
    "        IDpath = IDpath[::-1]\n",
    "        Datapath = Datapath[::-1]\n",
    "        Edgepath = Edgepath = Edgepath[::-1][1:]\n",
    "        Edgepath.extend([0])\n",
    "    \n",
    "    def plot(self,obs=[],OnlyClosestObs=False,DrawCollisionNodes=False,DrawTrajectory=True):\n",
    "        #pdb.set_trace()\n",
    "        import numpy as np\n",
    "        import matplotlib.pyplot as plt\n",
    "        from mpl_toolkits.mplot3d import Axes3D\n",
    "        fig = plt.figure()\n",
    "        ax1 = fig.add_subplot(111, projection='3d')\n",
    "        ax1.view_init(elev=90., azim=-45)\n",
    "        #ax2 = fig.add_subplot(222)\n",
    "        \n",
    "        # plot the tree\n",
    "        for i in range(0,self.NumNodes):\n",
    "            s = self.get_data(i)\n",
    "            for j in self.get_children(i):\n",
    "                e = self.get_data(j)\n",
    "                plt.plot([s[0], e[0]], [s[1],e[1]],zs=[s[2],e[2]],color='black')\n",
    "        \n",
    "        # special marker for the root\n",
    "        root = self.get_data(0)\n",
    "        plt.scatter(root[0],root[1],zs=root[2],c='red', marker='o')\n",
    "        \n",
    "        # plot the collision nodes in blue\n",
    "        if DrawCollisionNodes:\n",
    "            for node in self.collisionNodes:\n",
    "                plt.scatter(node[0],node[1],zs=node[2],c='blue', marker='o')\n",
    "        \n",
    "        # plot the final node in green\n",
    "        if self.connect:\n",
    "            plt.scatter(self.qfinal[0],self.qfinal[1],zs=self.qfinal[2],c='green', marker='o')\n",
    "        \n",
    "        ax1.set_xlabel('x')\n",
    "        ax1.set_ylabel('y')\n",
    "        ax1.set_zlabel('z')\n",
    "        #ax1.set_aspect('equal')        \n",
    "        \n",
    "        if OnlyClosestObs:\n",
    "            #pdb.set_trace()\n",
    "            listOfCloseObs = list()\n",
    "            listOfCloseObsID = list()\n",
    "            for i in range(0,self.NumNodes):\n",
    "                nodePos = self.get_data(i)[0:3]\n",
    "                closestObsID = 0\n",
    "                mindist = np.Inf\n",
    "                for k,o in enumerate(obs):\n",
    "                    dist = np.linalg.norm(o['pos']-nodePos)\n",
    "                    if dist<mindist:\n",
    "                        mindist = dist\n",
    "                        closestObsID = k\n",
    "                if closestObsID not in listOfCloseObsID:\n",
    "                    listOfCloseObsID.append(closestObsID)\n",
    "                    listOfCloseObs.append(obs[closestObsID])\n",
    "            obs = listOfCloseObs\n",
    "\n",
    "        for o in obs:\n",
    "            u = np.linspace(0, 2 * np.pi, 30)\n",
    "            v = np.linspace(0, np.pi, 30)\n",
    "\n",
    "            x = o['pos'][0]+ o['r'] * np.outer(np.cos(u), np.sin(v))\n",
    "            y = o['pos'][1]+ o['r'] * np.outer(np.sin(u), np.sin(v))\n",
    "            z = o['pos'][2]+ o['r'] * np.outer(np.ones(np.size(u)), np.cos(v))\n",
    "            #pdb.set_trace()\n",
    "            ax1.plot_surface(x, y, z, rstride=4, cstride=4, color='b')\n",
    "        \n",
    "        if DrawTrajectory:\n",
    "            ax.plot(curve[2000:,0], curve[2000:,1], curve[2000:,2], label='integral curve', color='green')\n",
    "        \n",
    "            #plt.scatter(o['pos'][0],o['pos'][1],zs=o['pos'][2],c='blue', marker='o',  s=o['r']*10)\n",
    "        "
   ]
  },
  {
   "cell_type": "markdown",
   "metadata": {
    "run_control": {
     "marked": false
    }
   },
   "source": [
    "# RRT-like Algorithm"
   ]
  },
  {
   "cell_type": "code",
   "execution_count": 5,
   "metadata": {
    "collapsed": true,
    "run_control": {
     "marked": false
    }
   },
   "outputs": [],
   "source": [
    "import numpy as np\n",
    "import random as rnd\n",
    "import dubins\n",
    "\n",
    "# create some obstacles\n",
    "def CreateSphericalObstacles(envBounds=bounds,N=10,r=0.5):\n",
    "    import numpy.random as rnd\n",
    "    \n",
    "    Obstacles = list()\n",
    "    for i in range(0,N):\n",
    "        ob = dict()\n",
    "        pos = np.array([0.0,0.0,0.0])\n",
    "        pos[0] = rnd.uniform(envBounds[\"xmin\"],envBounds[\"xmax\"])\n",
    "        pos[1] = rnd.uniform(envBounds[\"ymin\"],envBounds[\"ymax\"])\n",
    "        pos[2] = rnd.uniform(envBounds[\"zmin\"],envBounds[\"zmax\"])\n",
    "        ob[\"pos\"] = pos\n",
    "        ob[\"r\"] = r\n",
    "        Obstacles.append(ob)\n",
    "    \n",
    "    return Obstacles\n",
    "\n",
    "# distance measure, dubins curve length\n",
    "def dubinsDist(a,b):\n",
    "    # Projection on the x-y plane to utilize the available dubins curve code\n",
    "    q0 = (a[0], a[1], a[3])\n",
    "    q1 = (b[0], b[1], b[3])\n",
    "    # DistStep is defined in the cell above for the model\n",
    "    # minTurningRadius is defined in the cell above for the model\n",
    "    \n",
    "    dubinsLength =  dubins.path_length(q0, q1, minTurningRadius)\n",
    "    \n",
    "    # the altitute difference is integrated by pythagoras\n",
    "    dz = b[2]-a[2]\n",
    "    \n",
    "    # Return length of hypothenuse, that does simplify the problem, beause the altitute change\n",
    "    # rate is not saturating\n",
    "    return np.sqrt(np.power(dubinsLength,2)+np.power(dz,2))\n",
    "    \n",
    "# random Sample\n",
    "def rndSample(envBounds=bounds, mustBeFree=False, Obs=[]):\n",
    "    if mustBeFree and not Obs:\n",
    "        raise ValueError('Obstacle definition missing in rndSample()')\n",
    "    \n",
    "    q = np.array([0.,0.,0.,0.])\n",
    "    while not q.any() or (mustBeFree and isBlocked(q,Obs)):\n",
    "        q[0] = rnd.uniform(bounds[\"xmin\"],bounds[\"xmax\"])\n",
    "        q[1] = rnd.uniform(bounds[\"ymin\"],bounds[\"ymax\"])\n",
    "        q[2] = rnd.uniform(bounds[\"zmin\"],bounds[\"zmax\"])\n",
    "        q[3] = rnd.uniform(0,2*np.pi)\n",
    "    \n",
    "    return q\n",
    "\n",
    "# collision check if q is inside one of the obstacles\n",
    "def isBlocked(q,Obs):\n",
    "    for o in Obs:\n",
    "        if np.linalg.norm(o[\"pos\"]-q[0:3])<=o[\"r\"]:\n",
    "            return True\n",
    "    \n",
    "    return False\n",
    "\n",
    "# find nearest node on the tree, returns ID of qnear, data of qnear, distance\n",
    "def nearestNode(Tree,qrnd,metric):\n",
    "    minDist = metric(Tree.get_data(0),qrnd)\n",
    "    minNode = Tree.get_data(0)\n",
    "    minNodeID = 0\n",
    "    for IDchild in range(1,Tree.NumNodes):\n",
    "        dist = metric(Tree.get_data(IDchild),qrnd)\n",
    "        if dist < minDist:\n",
    "            minNode = Tree.get_data(IDchild)\n",
    "            minNodeID = IDchild\n",
    "            minDist = dist\n",
    "    \n",
    "    return minNodeID, minNode, minDist\n",
    "        \n",
    "# try to steer from node a to node b and returns qnew, ubest\n",
    "def steer(a,b):\n",
    "    # calculate the best vz, probably in saturation\n",
    "    dz = b[2]-a[2]\n",
    "    if dz>=0:\n",
    "        if TimeStep*inputBounds[\"vzmax\"]<dz:\n",
    "            vz = inputBounds[\"vzmax\"]\n",
    "        else:\n",
    "            vz = dz/TimeStep\n",
    "    else:\n",
    "        if TimeStep*inputBounds[\"vzmin\"]>dz:\n",
    "            vz = inputBounds[\"vzmin\"]\n",
    "        else:\n",
    "            vz = dz/TimeStep\n",
    "    \n",
    "    # Projection on the x-y plane to utilize the available dubins curve code\n",
    "    q0 = (a[0], a[1], a[3])\n",
    "    q1 = (b[0], b[1], b[3])\n",
    "    dubinsPath = dubins.path_sample(q0, q1, minTurningRadius,DistStep)\n",
    "    if dubinsPath[1]==[0.0]:\n",
    "        dubinsPath = dubins.path_sample(q0, q1, minTurningRadius,DistStep/2)\n",
    "        x = dubinsPath[0][-1][0]\n",
    "        y = dubinsPath[0][-1][1]\n",
    "        theta = dubinsPath[0][-1][2]\n",
    "    else:\n",
    "        x = dubinsPath[0][1][0]\n",
    "        y = dubinsPath[0][1][1]\n",
    "        theta = dubinsPath[0][1][2]\n",
    "    \n",
    "    z = a[2]+vz*TimeStep\n",
    "    qnew= np.array([x,y,z,theta])\n",
    "    return qnew # qnew is DistStep away from a \n",
    "    \n",
    "def GetNewDirection(qnear,qrnd,T):\n",
    "    vRand = (qrnd[0:3]-qnear[0:3])/np.linalg.norm(qrnd[0:3]-qnear[0:3])\n",
    "    vField = T.VF(qnear[0:3])\n",
    "    w = BiasedSampling(vRand,vField,T)\n",
    "    vNew = (vRand-vField)/2.0*w+vField\n",
    "    return vNew/np.linalg.norm(vNew)\n",
    "    #alpha,beta = Getalphabeta(w,vRand,vField,T)\n",
    "    #return alpha*vField+beta*vRand\n",
    "\n",
    "def BiasedSampling(vRand,vField,T):\n",
    "    sigma = np.power(np.linalg.norm(vRand-vField),2)/4\n",
    "    if not np.mod(T.step,T.lambdaNsteps):\n",
    "        UpdateGain(T)\n",
    "        T.step = 1\n",
    "    else:\n",
    "        T.step += 1\n",
    "    phi = GetNormalizingFactor(T.lambd)\n",
    "    return GetWeight(sigma,T.lambd,phi)\n",
    "    \n",
    "def UpdateGain(T):\n",
    "    T.lambd = T.lambd*(1-T.Eineff+T.Es)\n",
    "    T.nqeff = 0\n",
    "    T.nqineff = 0\n",
    "    T.Eineff = 0\n",
    "    return T.lambd\n",
    "\n",
    "def GetNormalizingFactor(lambd):\n",
    "    return lambd/(1-np.exp(-2*lambd))\n",
    "\n",
    "def GetWeight(sigma,lambd,phi):\n",
    "    z = -(np.log(1-sigma*lambd/phi))/lambd\n",
    "    return np.sqrt(z*2)\n",
    "\n",
    "def Extend(T,qnearID,qnear,vNew,Obstacles):\n",
    "    # Calculate an offset regarding the new direction vNew, get a theta from the direction of the VF in that point\n",
    "    offset = vNew*inputBounds[\"vfmax\"]*TimeStep\n",
    "    direc = T.VF(qnear[0:3]+offset)\n",
    "    newangle = np.arctan2(direc[1],direc[0])\n",
    "    if newangle<0:\n",
    "        newangle+=2*np.pi\n",
    "    qVF = np.append(qnear[0:3]+offset,newangle)\n",
    "    \n",
    "    # try to steer an Dubins airpĺane from qnear to qVF\n",
    "    qnew = steer(qnear,qVF)\n",
    "    u = 0 #TODO: the input is not directly returned from the Dubins code\n",
    "    \n",
    "    if not isBlocked(qnew,Obs=Obstacles):\n",
    "        UpdateExplorationEfficiency(T,qnew,qnearID)\n",
    "        T.add_child(qnearID, qnew, u, additionalData=[T.lambd,T.nqeff,T.nqineff,T.Eineff,T.Es,T.lambdaNsteps])\n",
    "        success = True\n",
    "    else:\n",
    "        T.add_collision(qnew)\n",
    "        T.nqineff += 1\n",
    "        success = False\n",
    "    \n",
    "    return success,qnew\n",
    "\n",
    "def turn180Degree(pos):\n",
    "    newpos = np.copy(pos)\n",
    "    newpos[3] += np.pi\n",
    "    if newpos[3]>=2*np.pi:\n",
    "        newpos[3]-=2*np.pi\n",
    "    return newpos\n",
    "\n",
    "def UpdateExplorationEfficiency(T,qnew,qparentID):\n",
    "    #import pdb; pdb.set_trace()\n",
    "    minNodeID,_,dist = nearestNode(T,qnew,dubinsDist)\n",
    "    if minNodeID != qparentID:# and dist<DistStep:\n",
    "        T.nqineff += 1\n",
    "    else:\n",
    "        T.nqeff += 1\n",
    "    T.Eineff = T.nqineff/(T.nqineff+T.nqeff)\n",
    "    \n",
    "def DrawStats(T):\n",
    "    lambd,nqeff,nqineff,Eineff,Es,lambdaNsteps = zip(*T.additionalData)\n",
    "    f, axarr = plt.subplots(4)\n",
    "    axarr[0].plot(lambd)\n",
    "    axarr[0].legend(['lambd, higher, more VF bias'])\n",
    "    \n",
    "    axarr[1].plot(nqeff)\n",
    "    axarr[1].plot(nqineff)\n",
    "    axarr[1].legend(['nqeff','nqineff'])\n",
    "    \n",
    "    axarr[2].plot(Eineff)\n",
    "    axarr[2].plot(Es)\n",
    "    axarr[2].legend(['Eineff','Es'])\n",
    "    \n",
    "    axarr[3].plot(lambdaNsteps,label='lambdaNsteps')\n",
    "    axarr[3].legend(['lambdaNsteps'])\n",
    "    \n",
    "#def Getalphabeta(w,vRand,vField,T):\n",
    "#    vNew = (vRand-vField)/2.0*w+vField\n",
    "#    vNew = vNew/np.linalg.norm(vNew)\n",
    "#    alpha = np.inner(vField,vNew)\n",
    "#    beta = np.inner(vRand,vNew)\n",
    "#    return alpha,beta"
   ]
  },
  {
   "cell_type": "markdown",
   "metadata": {
    "run_control": {
     "marked": false
    }
   },
   "source": [
    "## VFRRT()"
   ]
  },
  {
   "cell_type": "code",
   "execution_count": 6,
   "metadata": {
    "collapsed": false,
    "run_control": {
     "marked": false
    }
   },
   "outputs": [],
   "source": [
    "def VFRRT(qstart,VF,lambdaNsteps,Es,lamdb,MaxNodes,MAXiter,Obstacles,bounds,connect=False,qfinal=False):\n",
    "    isFirstTree = True\n",
    "    #import pdb; pdb.set_trace()\n",
    "    if connect:\n",
    "        T1 = Tree(qstart,VF,lambdaNsteps,Es,lamdb,connect=True,qfinal=qfinal)\n",
    "        invertedVF = lambda pos:VF(pos,otherDir=True)\n",
    "        T2 = Tree(turn180Degree(qfinal),invertedVF,lambdaNsteps,Es,lamdb,connect=True,qfinal=turn180Degree(qstart))\n",
    "        T  = T1\n",
    "        distances = list([])\n",
    "    else:\n",
    "        T = Tree(qstart,VF,lambdaNsteps,Es,lamdb)\n",
    "    \n",
    "    qnew = qstart\n",
    "    while T.NumNodes<MaxNodes and T.iterations<MAXiter:\n",
    "        #import pdb; pdb.set_trace()\n",
    "        # random sample qrnd\n",
    "        qrnd = rndSample(mustBeFree=True, Obs=Obstacles,envBounds=bounds)\n",
    "        \n",
    "        # get qnear\n",
    "        qnearID, qnear, dist = nearestNode(T,qrnd,metric=dubinsDist)\n",
    "\n",
    "        # change the direction w.r.t. the VF\n",
    "        vNew = GetNewDirection(qnear,qrnd,T)\n",
    "        # Extend\n",
    "        success,qnew = Extend(T,qnearID,qnear,vNew,Obstacles)\n",
    "\n",
    "        T.iterations += 1\n",
    "            \n",
    "        # if connect flag is set, birectional behavior\n",
    "        if connect:\n",
    "            # swap the trees\n",
    "            if isFirstTree:\n",
    "                T = T2\n",
    "            else:\n",
    "                T = T1\n",
    "            isFirstTree = not isFirstTree\n",
    "            \n",
    "            # if the iteration resulted in a new node on the tree, try to connect the trees\n",
    "            if success: \n",
    "                minNodeID, minNode, minDist = nearestNode(T,turn180Degree(qnew),dubinsDist)\n",
    "                #print(minDist)\n",
    "                if isFirstTree:\n",
    "                    T2.dists.append(minDist)\n",
    "                else:\n",
    "                    T1.dists.append(minDist)\n",
    "                \n",
    "                if minDist<=DistStep:\n",
    "                    print('Succesfully connected')\n",
    "                    break\n",
    "        \n",
    "    if connect:\n",
    "        print('Tree 1:')\n",
    "        print(\"Number of nodes in the tree: %d\" % T1.NumNodes)\n",
    "        print(\"Total number of iterations (some are blocked): %d\" % T1.iterations)\n",
    "        print('Tree 2:')\n",
    "        print(\"Number of nodes in the tree: %d\" % T2.NumNodes)\n",
    "        print(\"Total number of iterations (some are blocked): %d\" % T2.iterations)\n",
    "        return T1,T2\n",
    "    else:\n",
    "        print(\"Number of nodes in the tree: %d\" % T.NumNodes)\n",
    "        print(\"Total number of iterations (some are blocked): %d\" % T.iterations)\n",
    "        return T"
   ]
  },
  {
   "cell_type": "markdown",
   "metadata": {
    "run_control": {
     "marked": false
    }
   },
   "source": [
    "# Stage 1: Find Path to Curve"
   ]
  },
  {
   "cell_type": "code",
   "execution_count": 7,
   "metadata": {
    "collapsed": false,
    "run_control": {
     "marked": false
    }
   },
   "outputs": [],
   "source": [
    "import numpy as np\n",
    "\n",
    "qstart = np.array([10.,10.,-10.,np.pi])\n",
    "Obstacles = CreateSphericalObstacles(N=100,r=2)\n",
    "while isBlocked(qstart, Obstacles):\n",
    "    Obstacles = CreateSphericalObstacles(N=100,r=2)"
   ]
  },
  {
   "cell_type": "code",
   "execution_count": 8,
   "metadata": {
    "collapsed": false,
    "run_control": {
     "marked": false
    },
    "scrolled": true
   },
   "outputs": [],
   "source": [
    "#%matplotlib notebook\n",
    "import pdb\n",
    "import random as rnd\n",
    "\n",
    "# Experiment parameters\n",
    "MaxNodes = 15\n",
    "MAXiter = MaxNodes*3\n",
    "lambdaNsteps=40\n",
    "Es=0.8\n",
    "lamdb=1.0\n",
    "\n",
    "# Execute and return Tree\n",
    "#T = VFRRT(qstart,VF,lambdaNsteps,Es,lamdb,MaxNodes,MAXiter,bounds=bounds)"
   ]
  },
  {
   "cell_type": "code",
   "execution_count": 9,
   "metadata": {
    "collapsed": false,
    "run_control": {
     "marked": false
    }
   },
   "outputs": [],
   "source": [
    "#T.plot(obs=Obstacles)\n",
    "\n",
    "#T.plot(DrawTrajectory=True,DrawCollisionNodes=True)\n",
    "#T.plot(obs=Obstacles,OnlyClosestObs=True,DrawCollisionNodes=True)\n",
    "#DrawStats(T)\n",
    "#plt.show()"
   ]
  },
  {
   "cell_type": "markdown",
   "metadata": {
    "collapsed": true,
    "run_control": {
     "marked": false
    }
   },
   "source": [
    "# Stage 2: Create a Trajectory that closes the Loop #\n",
    "Pseudocode:\n",
    "1. Naive solution\n",
    "2. Remove blocked nodes\n",
    "3. Connect subsets of the path"
   ]
  },
  {
   "cell_type": "markdown",
   "metadata": {
    "run_control": {
     "marked": false
    }
   },
   "source": [
    "## 1. Naive Solution"
   ]
  },
  {
   "cell_type": "code",
   "execution_count": 10,
   "metadata": {
    "collapsed": false,
    "run_control": {
     "marked": false
    }
   },
   "outputs": [
    {
     "name": "stdout",
     "output_type": "stream",
     "text": [
      "finished after 186 iterations\n"
     ]
    }
   ],
   "source": [
    "#%matplotlib inline\n",
    "import numpy as np\n",
    "\n",
    "MAXnodes = 200\n",
    "\n",
    "# start on curve\n",
    "qstart = np.array([xc+r,yc,zc,0.])\n",
    "qstart[-1] = VFangle(qstart)\n",
    "\n",
    "qList = [qstart]\n",
    "distList = []\n",
    "q = qstart\n",
    "for i in range(0,MAXnodes):\n",
    "    #import pdb; pdb.set_trace()\n",
    "    # steer in the direction of the VF\n",
    "    offset = VF(q)*inputBounds[\"vfmax\"]*TimeStep\n",
    "    newangle = VFangle(q[0:3]+offset)\n",
    "    qVF = np.append(q[0:3]+offset,newangle)\n",
    "    qnew = steer(q,qVF)\n",
    "    q = qnew\n",
    "    qList.append(qnew)\n",
    "    \n",
    "    distList.append(dubinsDist(qnew,qstart)) \n",
    "    if distList[-1]<=DistStep*2:\n",
    "        print('finished after %d iterations' % i)\n",
    "        break\n",
    "\n",
    "def plotQlist(qList,text):\n",
    "    # split the List of arrays into plottable data\n",
    "    x,y,z,t = zip(*qList)\n",
    "\n",
    "    fig = plt.figure()\n",
    "    ax = fig.gca(projection='3d')\n",
    "    #ax.plot(curve[2000:,0], curve[2000:,1], curve[2000:,2], label='integral curve', color='green')# the VF traj\n",
    "    ax.plot(x, y, z, label=text,color='red')\n",
    "    ax.set_xlabel('x')\n",
    "    ax.set_ylabel('y')\n",
    "    ax.set_zlabel('z')\n",
    "    ax.legend()\n",
    "\n",
    "\n",
    "#plotQlist(qList,'naive solution w/o obstacles')\n",
    "\n",
    "# Plot dubins airplane distance from the newest node to the start node\n",
    "#fig = plt.figure()\n",
    "#ax = fig.gca()\n",
    "#ax.plot(distList)\n",
    "#plt.title('dubins airplane distance from node_i to the start node')\n",
    "\n",
    "#plt.show()"
   ]
  },
  {
   "cell_type": "markdown",
   "metadata": {
    "run_control": {
     "marked": false
    }
   },
   "source": [
    "## 2. Find blocked nodes"
   ]
  },
  {
   "cell_type": "code",
   "execution_count": 11,
   "metadata": {
    "collapsed": false,
    "run_control": {
     "marked": false
    }
   },
   "outputs": [
    {
     "name": "stdout",
     "output_type": "stream",
     "text": [
      "[(45, 50)]\n"
     ]
    }
   ],
   "source": [
    "# Spherical Obstacle Definition\n",
    "ob = dict()\n",
    "ob[\"pos\"] = np.array([xc,yc+r,zc])\n",
    "ob[\"r\"] = 0.2\n",
    "\n",
    "Obstacles = list()\n",
    "Obstacles.append(ob)\n",
    "\n",
    "# Split the qList in subsets whenever an obstacle blocks a node\n",
    "oldResult = isBlocked(qList[0],Obstacles)\n",
    "toConnect = []\n",
    "for i in range(1,len(qList)):\n",
    "    newResult = isBlocked(qList[i],Obstacles)\n",
    "    if newResult and not oldResult:\n",
    "        ilast = i-1\n",
    "    if not newResult and oldResult:\n",
    "        ifirst = i\n",
    "        toConnect.append((ilast,ifirst))\n",
    "    oldResult = newResult\n",
    "\n",
    "print(toConnect)"
   ]
  },
  {
   "cell_type": "markdown",
   "metadata": {
    "run_control": {
     "marked": false
    }
   },
   "source": [
    "## 3. Use biVF-RRT to connect the subsets"
   ]
  },
  {
   "cell_type": "code",
   "execution_count": null,
   "metadata": {
    "collapsed": false,
    "run_control": {
     "marked": true
    },
    "scrolled": false
   },
   "outputs": [
    {
     "name": "stdout",
     "output_type": "stream",
     "text": [
      "Tree 1:\n",
      "Number of nodes in the tree: 496\n",
      "Total number of iterations (some are blocked): 502\n",
      "Tree 2:\n",
      "Number of nodes in the tree: 500\n",
      "Total number of iterations (some are blocked): 501\n",
      "0.134981997613"
     ]
    }
   ],
   "source": [
    "#%matplotlib notebook\n",
    "for pair in toConnect:\n",
    "    l,f=pair\n",
    "    \n",
    "    # VFRRT parameters\n",
    "    MaxNodes = 500\n",
    "    MAXiter = MaxNodes*10\n",
    "    lambdaNsteps=100\n",
    "    Es=0.9\n",
    "    lamdb=0.1\n",
    "    qs = qList[l-8]\n",
    "    qf = qList[f+8]\n",
    "    \n",
    "    # sample bounds\n",
    "    bounds = dict()\n",
    "    edge = 3.0\n",
    "    bounds[\"xmin\"] = qs[0]-edge\n",
    "    bounds[\"xmax\"] = qs[0]+edge\n",
    "    bounds[\"ymin\"] = qs[1]-edge\n",
    "    bounds[\"ymax\"] = qs[1]+edge\n",
    "    bounds[\"zmin\"] = qs[2]-edge\n",
    "    bounds[\"zmax\"] = qs[2]+edge\n",
    "    \n",
    "    # Execute and return Tree\n",
    "    T1,T2 = VFRRT(qs,VF,lambdaNsteps,Es,lamdb,MaxNodes,MAXiter,Obstacles,bounds=bounds,connect=True,qfinal=qf)\n",
    "\n",
    "T1.plot(obs=Obstacles,DrawCollisionNodes=True,DrawTrajectory=False)\n",
    "T2.plot(obs=Obstacles,DrawCollisionNodes=True,DrawTrajectory=False)\n",
    "print(np.min(T1.dists))\n",
    "print(np.min(T2.dists))\n",
    "DrawStats(T1)\n",
    "DrawStats(T2)\n",
    "#T.plot(obs=Obstacles,DrawCollisionNodesDrawStats(T)=True,DrawTrajectory=False)\n",
    "#DrawStats(T)\n",
    "\n",
    "#plt.figure()\n",
    "#plt.plot(dists)\n",
    "#plt.title('dubins distances min=%.2f' % np.min(dists))\n",
    "\n",
    "plt.show()"
   ]
  },
  {
   "cell_type": "code",
   "execution_count": 13,
   "metadata": {
    "collapsed": false,
    "run_control": {
     "marked": false
    }
   },
   "outputs": [],
   "source": [
    "plt.figure()\n",
    "plt.plot(np.sort(T1.dists))\n",
    "plt.title('T1 dubins distances min=%.2f' % np.min(T1.dists))\n",
    "\n",
    "plt.figure()\n",
    "plt.plot(np.sort(T2.dists))\n",
    "plt.title('T2 dubins distances min=%.2f' % np.min(T2.dists))\n",
    "\n",
    "plt.show()"
   ]
  },
  {
   "cell_type": "code",
   "execution_count": null,
   "metadata": {
    "collapsed": true,
    "run_control": {
     "marked": false
    }
   },
   "outputs": [],
   "source": []
  }
 ],
 "metadata": {
  "kernelspec": {
   "display_name": "Python 3",
   "language": "python",
   "name": "python3"
  },
  "language_info": {
   "codemirror_mode": {
    "name": "ipython",
    "version": 3
   },
   "file_extension": ".py",
   "mimetype": "text/x-python",
   "name": "python",
   "nbconvert_exporter": "python",
   "pygments_lexer": "ipython3",
   "version": "3.5.1"
  }
 },
 "nbformat": 4,
 "nbformat_minor": 0
}
