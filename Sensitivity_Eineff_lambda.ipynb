{
 "cells": [
  {
   "cell_type": "code",
   "execution_count": null,
   "metadata": {
    "collapsed": true
   },
   "outputs": [],
   "source": []
  },
  {
   "cell_type": "markdown",
   "metadata": {
    "ExecuteTime": {
     "end_time": "2016-04-12T11:53:30.250034",
     "start_time": "2016-04-12T11:53:30.235961"
    },
    "collapsed": true,
    "run_control": {
     "marked": false
    }
   },
   "source": [
    "# Implicit Trajectory combined with RRT #\n",
    "- Work space: 3D with obstacles\n",
    "- Obstacle type: static and known\n",
    "- Agent Model: Dubins airplane (Owen2015)\n",
    "- Integration Algorithm: 4th Order Runge Kutta\n",
    "- Implicit Curve: Time-invariant Circle\n",
    "- Distance Metric: admissionable heuristic, based on time-optimal dubins-airplane paths (altitude difference is integrated in a linear fashion)"
   ]
  },
  {
   "cell_type": "code",
   "execution_count": 21,
   "metadata": {
    "ExecuteTime": {
     "end_time": "2016-05-20T11:18:40.347358",
     "start_time": "2016-05-20T11:18:37.137630"
    },
    "collapsed": false,
    "run_control": {
     "marked": true
    }
   },
   "outputs": [],
   "source": [
    "# load the code\n",
    "%run 'MAIN_CODE.ipynb'\n",
    "import random"
   ]
  },
  {
   "cell_type": "markdown",
   "metadata": {
    "ExecuteTime": {
     "end_time": "2016-04-12T11:00:30.033027",
     "start_time": "2016-04-12T11:00:29.977472"
    },
    "collapsed": false,
    "run_control": {
     "marked": false
    }
   },
   "source": [
    "# Sensitivity Experiments"
   ]
  },
  {
   "cell_type": "markdown",
   "metadata": {},
   "source": [
    "## VF-RRT+impl.Curve: $E_{s}$ vs $N_\\lambda$"
   ]
  },
  {
   "cell_type": "markdown",
   "metadata": {
    "collapsed": true,
    "run_control": {
     "marked": false
    }
   },
   "source": [
    "### Params"
   ]
  },
  {
   "cell_type": "code",
   "execution_count": 22,
   "metadata": {
    "ExecuteTime": {
     "end_time": "2016-05-20T11:18:40.361517",
     "start_time": "2016-05-20T11:18:40.349217"
    },
    "collapsed": true,
    "run_control": {
     "marked": true
    }
   },
   "outputs": [],
   "source": [
    "import time\n",
    "\n",
    "#Parameters in General\n",
    "qstart = np.array([5.,5.,1.,np.pi])# specific initial point\n",
    "MaxNodes = 150\n",
    "MAXiter = MaxNodes*3\n",
    "\n",
    "# Experiment parameters for VF-RRT\n",
    "lamSteps = 11\n",
    "lambdaNsteps_range=np.linspace(5,15,lamSteps)\n",
    "EsSteps=10\n",
    "Es_range=np.linspace(0.05,0.95,EsSteps)\n",
    "lamdb=1.0 #w/e"
   ]
  },
  {
   "cell_type": "markdown",
   "metadata": {},
   "source": [
    "### Obstacles"
   ]
  },
  {
   "cell_type": "code",
   "execution_count": 23,
   "metadata": {
    "ExecuteTime": {
     "end_time": "2016-05-20T11:18:40.567883",
     "start_time": "2016-05-20T11:18:40.363606"
    },
    "collapsed": true,
    "run_control": {
     "marked": false
    }
   },
   "outputs": [],
   "source": [
    "#specific obstacles, fixed, known, not moving\n",
    "\n",
    "# reset the RNG for deterministic obstacles\n",
    "random.seed( 199 ) #arbitrary\n",
    "\n",
    "Obstacles = CreateSphericalObstacles(N=70,r=4.)\n",
    "while isBlocked(qstart, Obstacles):\n",
    "    Obstacles = CreateSphericalObstacles(N=70,r=4.)"
   ]
  },
  {
   "cell_type": "markdown",
   "metadata": {},
   "source": [
    "### Experiment"
   ]
  },
  {
   "cell_type": "code",
   "execution_count": 24,
   "metadata": {
    "ExecuteTime": {
     "end_time": "2016-05-20T11:20:17.885186",
     "start_time": "2016-05-20T11:18:40.570350"
    },
    "collapsed": false,
    "run_control": {
     "marked": true
    },
    "scrolled": true
   },
   "outputs": [
    {
     "name": "stdout",
     "output_type": "stream",
     "text": [
      "VFRRT\n",
      "Es\tlamStps\tt\tsuccess\twork\tupstr\tnodes\titer\teuDist\tangDist\thiLim\tloLim\n",
      "0.050\t5\t0.626\tTrue\t4.293\t2.887\t114\t122\t4.599\t17.621\tFalse\tTrue\n",
      "0.050\t6\t0.589\tTrue\t4.293\t2.894\t114\t122\t4.599\t17.531\tFalse\tTrue\n",
      "0.050\t7\t0.584\tTrue\t4.299\t2.830\t114\t122\t4.599\t17.344\tFalse\tTrue\n",
      "0.050\t8\t0.553\tTrue\t4.295\t2.870\t114\t122\t4.599\t17.306\tFalse\tFalse\n",
      "0.050\t9\t0.547\tTrue\t4.317\t2.654\t113\t122\t4.598\t16.792\tFalse\tFalse\n",
      "0.050\t10\t0.686\tTrue\t4.314\t2.677\t113\t122\t4.598\t16.741\tFalse\tFalse\n",
      "0.050\t11\t0.608\tTrue\t4.320\t2.618\t113\t122\t4.598\t16.624\tFalse\tFalse\n",
      "0.050\t12\t0.613\tTrue\t4.323\t2.582\t113\t122\t4.597\t16.533\tFalse\tFalse\n",
      "0.050\t13\t0.469\tTrue\t4.342\t2.100\t101\t101\t4.567\t12.862\tFalse\tFalse\n",
      "0.050\t14\t0.592\tTrue\t4.291\t2.457\t135\t135\t4.542\t11.784\tFalse\tFalse\n",
      "0.050\t15\t0.344\tTrue\t4.379\t1.581\t94\t94\t4.544\t13.458\tFalse\tFalse\n",
      "0.150\t5\t0.531\tTrue\t4.295\t2.868\t114\t122\t4.599\t17.473\tFalse\tTrue\n",
      "0.150\t6\t0.506\tTrue\t4.309\t2.727\t113\t122\t4.598\t17.023\tFalse\tFalse\n",
      "0.150\t7\t0.560\tTrue\t4.367\t4.324\t124\t132\t4.835\t14.856\tFalse\tFalse\n",
      "0.150\t8\t0.440\tTrue\t4.368\t1.820\t101\t101\t4.562\t11.999\tFalse\tFalse\n",
      "0.150\t9\t0.297\tTrue\t4.148\t3.144\t82\t82\t4.481\t13.814\tFalse\tFalse\n",
      "0.150\t10\t0.554\tTrue\t4.280\t1.568\t116\t116\t4.442\t9.247\tFalse\tFalse\n",
      "0.150\t11\t0.587\tTrue\t4.333\t2.471\t113\t122\t4.595\t16.240\tFalse\tFalse\n",
      "0.150\t12\t0.529\tTrue\t4.336\t2.449\t113\t122\t4.596\t16.153\tFalse\tFalse\n",
      "0.150\t13\t0.314\tTrue\t4.165\t2.935\t82\t82\t4.476\t13.646\tFalse\tFalse\n",
      "0.150\t14\t0.511\tTrue\t4.113\t3.461\t112\t112\t4.484\t13.900\tFalse\tFalse\n",
      "0.150\t15\t0.529\tTrue\t4.342\t2.383\t116\t122\t4.594\t16.043\tFalse\tFalse\n",
      "0.250\t5\t0.579\tTrue\t4.330\t3.331\t125\t125\t4.688\t13.804\tFalse\tFalse\n",
      "0.250\t6\t0.518\tTrue\t4.328\t2.541\t113\t122\t4.597\t16.367\tFalse\tFalse\n",
      "0.250\t7\t0.277\tTrue\t4.372\t1.804\t79\t79\t4.562\t13.835\tFalse\tFalse\n",
      "0.250\t8\t0.586\tTrue\t4.333\t2.480\t116\t122\t4.596\t16.309\tFalse\tFalse\n",
      "0.250\t9\t0.696\tTrue\t4.108\t4.567\t149\t149\t4.584\t12.930\tFalse\tFalse\n",
      "0.250\t10\t0.434\tTrue\t4.172\t3.840\t107\t107\t4.582\t15.121\tFalse\tFalse\n",
      "0.250\t11\t0.567\tTrue\t4.251\t2.921\t119\t119\t4.548\t12.650\tFalse\tFalse\n",
      "0.250\t12\t0.616\tTrue\t4.347\t2.325\t113\t122\t4.594\t15.792\tFalse\tFalse\n",
      "0.250\t13\t0.446\tTrue\t4.046\t5.299\t96\t96\t4.604\t16.224\tFalse\tFalse\n",
      "0.250\t14\t0.590\tTrue\t4.347\t3.496\t128\t130\t4.720\t12.334\tFalse\tFalse\n",
      "0.250\t15\t0.448\tTrue\t4.004\t3.706\t110\t110\t4.402\t14.681\tFalse\tFalse\n",
      "0.350\t5\t0.472\tTrue\t4.211\t2.355\t111\t111\t4.461\t13.219\tFalse\tFalse\n",
      "0.350\t6\t0.345\tTrue\t4.279\t1.864\t87\t87\t4.479\t12.180\tFalse\tFalse\n",
      "0.350\t7\t0.532\tTrue\t4.326\t2.214\t124\t124\t4.561\t13.279\tFalse\tFalse\n",
      "0.350\t8\t0.538\tTrue\t4.280\t1.958\t117\t122\t4.488\t14.145\tFalse\tFalse\n",
      "0.350\t9\t0.383\tTrue\t4.206\t1.802\t96\t96\t4.403\t10.974\tFalse\tFalse\n",
      "0.350\t10\t0.325\tTrue\t4.234\t2.388\t89\t89\t4.491\t13.172\tFalse\tFalse\n",
      "0.350\t11\t0.447\tTrue\t4.213\t3.473\t108\t108\t4.585\t15.429\tFalse\tFalse\n",
      "0.350\t12\t0.293\tTrue\t4.380\t1.532\t80\t80\t4.540\t12.816\tFalse\tFalse\n",
      "0.350\t13\t0.401\tTrue\t3.958\t7.198\t99\t99\t4.722\t17.801\tFalse\tFalse\n",
      "0.350\t14\t0.608\tTrue\t4.283\t1.906\t127\t127\t4.485\t13.771\tFalse\tFalse\n",
      "0.350\t15\t0.589\tTrue\t4.389\t1.814\t122\t122\t4.582\t14.184\tFalse\tFalse\n",
      "0.450\t5\t0.522\tTrue\t4.182\t1.873\t113\t113\t4.380\t13.424\tFalse\tFalse\n",
      "0.450\t6\t0.354\tTrue\t4.334\t0.969\t89\t89\t4.436\t9.137\tFalse\tFalse\n",
      "0.450\t7\t0.508\tTrue\t4.335\t2.282\t114\t114\t4.577\t13.184\tFalse\tFalse\n",
      "0.450\t8\t0.568\tTrue\t4.246\t2.222\t122\t122\t4.483\t13.788\tFalse\tFalse\n",
      "0.450\t9\t0.527\tTrue\t4.389\t1.802\t114\t114\t4.580\t13.727\tFalse\tFalse\n",
      "0.450\t10\t0.516\tTrue\t4.391\t1.781\t114\t114\t4.579\t13.554\tFalse\tFalse\n",
      "0.450\t11\t0.520\tTrue\t4.391\t1.777\t114\t114\t4.579\t13.628\tFalse\tFalse\n",
      "0.450\t12\t0.516\tTrue\t4.394\t1.743\t114\t114\t4.579\t13.437\tFalse\tFalse\n",
      "0.450\t13\t0.512\tTrue\t4.390\t1.779\t114\t114\t4.578\t13.649\tFalse\tFalse\n",
      "0.450\t14\t0.520\tTrue\t4.383\t1.856\t114\t114\t4.579\t13.859\tFalse\tFalse\n",
      "0.450\t15\t0.544\tTrue\t4.393\t1.742\t114\t114\t4.577\t13.424\tFalse\tFalse\n",
      "0.550\t5\t0.423\tTrue\t4.312\t1.373\t98\t98\t4.458\t9.441\tFalse\tFalse\n",
      "0.550\t6\t0.404\tTrue\t4.357\t0.902\t95\t95\t4.452\t9.144\tFalse\tFalse\n",
      "0.550\t7\t0.525\tTrue\t4.374\t1.873\t113\t113\t4.573\t12.092\tFalse\tFalse\n",
      "0.550\t8\t0.588\tTrue\t4.161\t2.068\t112\t113\t4.380\t12.536\tFalse\tFalse\n",
      "0.550\t9\t0.696\tTrue\t4.307\t1.596\t111\t113\t4.475\t12.376\tFalse\tFalse\n",
      "0.550\t10\t0.451\tTrue\t4.424\t1.398\t99\t99\t4.572\t12.193\tFalse\tFalse\n",
      "0.550\t11\t0.466\tTrue\t4.428\t1.358\t99\t99\t4.571\t11.892\tFalse\tFalse\n",
      "0.550\t12\t0.236\tTrue\t4.498\t1.294\t70\t70\t4.632\t11.480\tFalse\tFalse\n",
      "0.550\t13\t0.486\tTrue\t4.206\t2.733\t112\t113\t4.495\t14.119\tFalse\tFalse\n",
      "0.550\t14\t0.406\tTrue\t4.404\t1.633\t99\t99\t4.577\t13.358\tFalse\tFalse\n",
      "0.550\t15\t0.623\tTrue\t4.267\t4.187\t126\t129\t4.715\t14.548\tFalse\tFalse\n",
      "0.650\t5\t0.489\tTrue\t4.344\t0.924\t89\t89\t4.443\t7.517\tFalse\tFalse\n",
      "0.650\t6\t0.432\tTrue\t4.342\t0.946\t89\t89\t4.443\t7.713\tFalse\tFalse\n",
      "0.650\t7\t0.456\tTrue\t4.307\t1.370\t95\t95\t4.453\t9.739\tFalse\tFalse\n",
      "0.650\t8\t0.471\tTrue\t4.415\t1.326\t99\t99\t4.557\t9.334\tFalse\tFalse\n",
      "0.650\t9\t0.478\tTrue\t4.257\t0.919\t89\t89\t4.355\t9.232\tFalse\tFalse\n",
      "0.650\t10\t0.730\tTrue\t4.241\t1.175\t124\t143\t4.366\t10.655\tFalse\tFalse\n",
      "0.650\t11\t0.704\tTrue\t4.244\t1.126\t124\t143\t4.363\t10.548\tFalse\tFalse\n",
      "0.650\t12\t0.568\tTrue\t4.332\t1.266\t111\t113\t4.466\t11.266\tFalse\tFalse\n",
      "0.650\t13\t0.471\tTrue\t4.335\t1.242\t104\t106\t4.466\t11.353\tFalse\tFalse\n",
      "0.650\t14\t0.415\tTrue\t4.422\t1.397\t99\t99\t4.570\t12.156\tFalse\tFalse\n",
      "0.650\t15\t0.422\tTrue\t4.420\t1.441\t99\t99\t4.572\t12.276\tFalse\tFalse\n",
      "0.750\t5\t0.359\tTrue\t4.355\t0.782\t89\t89\t4.438\t6.775\tFalse\tFalse\n",
      "0.750\t6\t0.386\tTrue\t4.344\t0.910\t89\t89\t4.441\t7.358\tFalse\tFalse\n",
      "0.750\t7\t0.365\tTrue\t4.347\t0.890\t89\t89\t4.442\t7.500\tFalse\tFalse\n",
      "0.750\t8\t0.366\tTrue\t4.327\t1.134\t89\t89\t4.448\t8.633\tFalse\tFalse\n",
      "0.750\t9\t0.398\tTrue\t4.325\t1.196\t95\t95\t4.452\t9.166\tFalse\tFalse\n",
      "0.750\t10\t0.391\tTrue\t4.356\t0.910\t95\t95\t4.452\t9.080\tFalse\tFalse\n",
      "0.750\t11\t0.411\tTrue\t4.356\t0.925\t95\t95\t4.454\t9.404\tFalse\tFalse\n",
      "0.750\t12\t0.403\tTrue\t4.353\t0.953\t95\t95\t4.454\t9.738\tFalse\tFalse\n",
      "0.750\t13\t0.656\tTrue\t4.248\t1.051\t124\t143\t4.360\t10.182\tFalse\tFalse\n",
      "0.750\t14\t0.521\tTrue\t4.319\t1.416\t111\t113\t4.469\t11.631\tFalse\tFalse\n",
      "0.750\t15\t0.539\tTrue\t4.309\t1.556\t111\t113\t4.472\t11.995\tFalse\tFalse\n",
      "0.850\t5\t0.396\tTrue\t4.364\t0.661\t89\t89\t4.434\t6.129\tFalse\tFalse\n",
      "0.850\t6\t0.417\tTrue\t4.357\t0.739\t89\t89\t4.435\t6.367\tFalse\tFalse\n",
      "0.850\t7\t0.396\tTrue\t4.341\t0.940\t89\t89\t4.442\t7.531\tFalse\tFalse\n",
      "0.850\t8\t0.395\tTrue\t4.338\t1.005\t89\t89\t4.445\t7.821\tFalse\tFalse\n",
      "0.850\t9\t0.408\tTrue\t4.335\t1.061\t89\t89\t4.448\t8.287\tFalse\tFalse\n",
      "0.850\t10\t0.401\tTrue\t4.322\t1.209\t89\t89\t4.450\t9.077\tFalse\tFalse\n",
      "0.850\t11\t0.367\tTrue\t4.262\t0.831\t87\t87\t4.350\t8.627\tFalse\tFalse\n",
      "0.850\t12\t0.360\tTrue\t4.261\t0.843\t89\t89\t4.350\t8.993\tFalse\tFalse\n",
      "0.850\t13\t0.352\tTrue\t4.259\t0.892\t89\t89\t4.354\t9.190\tFalse\tFalse\n",
      "0.850\t14\t0.649\tTrue\t4.242\t1.103\t124\t143\t4.358\t10.259\tFalse\tFalse\n",
      "0.850\t15\t0.626\tTrue\t4.240\t1.162\t124\t143\t4.363\t10.604\tFalse\tFalse\n",
      "0.950\t5\t0.339\tTrue\t4.284\t0.434\t86\t86\t4.329\t5.603\tFalse\tFalse\n",
      "0.950\t6\t0.355\tTrue\t4.364\t0.650\t89\t89\t4.433\t5.981\tFalse\tFalse\n",
      "0.950\t7\t0.366\tTrue\t4.278\t0.536\t86\t86\t4.335\t6.576\tFalse\tFalse\n",
      "0.950\t8\t0.440\tTrue\t4.345\t0.903\t89\t89\t4.441\t7.189\tFalse\tFalse\n",
      "0.950\t9\t0.412\tTrue\t4.343\t0.961\t89\t89\t4.445\t7.704\tFalse\tFalse\n",
      "0.950\t10\t0.361\tTrue\t4.331\t1.093\t89\t89\t4.448\t8.386\tFalse\tFalse\n",
      "0.950\t11\t0.359\tTrue\t4.329\t1.123\t89\t89\t4.449\t8.681\tFalse\tFalse\n",
      "0.950\t12\t0.403\tTrue\t4.265\t0.782\t89\t89\t4.348\t8.528\tFalse\tFalse\n",
      "0.950\t13\t0.381\tTrue\t4.265\t0.807\t89\t89\t4.351\t8.568\tFalse\tFalse\n",
      "0.950\t14\t0.422\tTrue\t4.347\t0.993\t95\t95\t4.452\t9.534\tFalse\tFalse\n",
      "0.950\t15\t0.416\tTrue\t4.345\t1.057\t95\t95\t4.457\t9.949\tFalse\tFalse\n"
     ]
    }
   ],
   "source": [
    "# initilize\n",
    "VFRRTupstream = np.zeros((EsSteps, lamSteps))\n",
    "VFRRTnodes = np.zeros((EsSteps, lamSteps))\n",
    "VFRRTexetime = np.zeros((EsSteps, lamSteps))\n",
    "VFRRTwork = np.zeros((EsSteps, lamSteps))\n",
    "VFRRTsuccess = np.zeros((EsSteps, lamSteps))\n",
    "VFRRTiter = np.zeros((EsSteps, lamSteps))\n",
    "VFRRTeuclLength = np.zeros((EsSteps, lamSteps))\n",
    "VFRRTanglLength = np.zeros((EsSteps, lamSteps))\n",
    "\n",
    "print('VFRRT')\n",
    "print('Es\\tlamStps\\tt\\tsuccess\\twork\\tupstr\\tnodes\\titer\\teuDist\\tangDist\\thiLim\\tloLim')\n",
    "for i in range(0,EsSteps):\n",
    "    Es = Es_range[i]\n",
    "    for j in range(0,lamSteps):\n",
    "        lambdaNsteps = lambdaNsteps_range[j]\n",
    "        \n",
    "        # reset the RNG\n",
    "        random.seed( 500 ) #arbitrary\n",
    "        \n",
    "        # Execute and return Tree\n",
    "       \n",
    "        stampBegin = time.process_time()\n",
    "        T = VFRRT(qstart,VF,lambdaNsteps,Es,lamdb,MaxNodes,MAXiter,Obstacles,bounds=bounds)\n",
    "        #while not T.successful:\n",
    "        #    T = VFRRT(qstart,VF,lambdaNsteps,Es,lamdb,MaxNodes,MAXiter,Obstacles,bounds=bounds)\n",
    "        CPUtimePassed = time.process_time()-stampBegin\n",
    "        \n",
    "        while not T.successful:\n",
    "            stampBegin = time.process_time()\n",
    "            T = VFRRT(qstart,VF,lambdaNsteps,Es,lamdb,MaxNodes,MAXiter,Obstacles,bounds=bounds)\n",
    "            CPUtimePassed = time.process_time()-stampBegin\n",
    "        \n",
    "       \n",
    "        if T.successful:\n",
    "            VFRRTexetime[i][j] = CPUtimePassed\n",
    "            VFRRTiter[i][j] = T.iterations\n",
    "            VFRRTsuccess[i][j] = 1\n",
    "            IDpath,Datapath,Edgepath = T.get_solution()\n",
    "            work,upstream = T.get_WorkAndUpstreamOfPath(Datapath)\n",
    "            euclDist,anglDist = T.get_length(Datapath)\n",
    "            VFRRTnodes[i][j] = T.NumNodes\n",
    "            VFRRTupstream[i][j] = upstream\n",
    "            VFRRTwork[i][j] = work\n",
    "            VFRRTeuclLength[i][j] = euclDist\n",
    "            VFRRTanglLength[i][j] = anglDist\n",
    "\n",
    "            print('%.3f\\t%d\\t%.3f\\tTrue\\t%.3f\\t%.3f\\t%d\\t%d\\t%.3f\\t%.3f\\t%s\\t%s' % (Es,lambdaNsteps,CPUtimePassed,work,upstream,T.NumNodes,T.iterations,euclDist,anglDist,str(T.lambd_high),str(T.lambd_low)))\n",
    "        else:\n",
    "            print('%.3f\\t%d\\t%.3f\\tFalse\\t\\t\\t%d\\t%d\\t\\t\\t%s\\t%s' % (Es,lambdaNsteps,CPUtimePassed,T.NumNodes,T.iterations,str(T.lambd_high),str(T.lambd_low)))\n",
    "\n",
    "        #T.plot(DrawTrajectory=True,DrawCollisionNodes=True)\n",
    "        #T.plot(obs=Obstacles,OnlyClosestObs=True,DrawCollisionNodes=True)\n",
    "        #DrawStats(T)\n",
    "\n"
   ]
  },
  {
   "cell_type": "markdown",
   "metadata": {
    "run_control": {
     "marked": false
    }
   },
   "source": [
    "### Plots\n"
   ]
  },
  {
   "cell_type": "code",
   "execution_count": 25,
   "metadata": {
    "ExecuteTime": {
     "end_time": "2016-05-20T11:20:18.201571",
     "start_time": "2016-05-20T11:20:17.893330"
    },
    "collapsed": false,
    "run_control": {
     "marked": false
    }
   },
   "outputs": [],
   "source": [
    "import matplotlib.pyplot as plt\n",
    "import numpy as np\n",
    "from numpy import ma\n",
    "from matplotlib import colors, ticker, cm\n",
    "from matplotlib.mlab import bivariate_normal\n",
    "\n",
    "x = lambdaNsteps_range\n",
    "y = Es_range\n",
    "\n",
    "X, Y = np.meshgrid(x, y)\n",
    "\n",
    "# A low hump with a spike coming out of the top right.\n",
    "# Needs to have z/colour axis on a log scale so we see both hump and spike.\n",
    "# linear scale only shows the spike.\n",
    "z = VFRRTeuclLength\n",
    "\n",
    "z = ma.masked_where(z <= 0, z)\n",
    "\n",
    "\n",
    "fig = plt.figure()\n",
    "cs = plt.contourf(X, Y, z, cmap=cm.PuBu_r)\n",
    "plt.xlabel('lambda steps')\n",
    "plt.ylabel('Es')\n",
    "plt.title('VFRRTeuclLength')\n",
    "cbar = plt.colorbar()\n",
    "\n",
    "\n",
    "\n"
   ]
  },
  {
   "cell_type": "markdown",
   "metadata": {
    "run_control": {
     "marked": false
    }
   },
   "source": []
  },
  {
   "cell_type": "code",
   "execution_count": 26,
   "metadata": {
    "ExecuteTime": {
     "end_time": "2016-05-20T11:20:18.670425",
     "start_time": "2016-05-20T11:20:18.209794"
    },
    "collapsed": false,
    "run_control": {
     "marked": false
    }
   },
   "outputs": [],
   "source": [
    "import matplotlib.pyplot as plt\n",
    "import numpy as np\n",
    "from numpy import ma\n",
    "from matplotlib import colors, ticker, cm\n",
    "from matplotlib.mlab import bivariate_normal\n",
    "\n",
    "x = lambdaNsteps_range\n",
    "y = Es_range\n",
    "\n",
    "X, Y = np.meshgrid(x, y)\n",
    "\n",
    "# A low hump with a spike coming out of the top right.\n",
    "# Needs to have z/colour axis on a log scale so we see both hump and spike.\n",
    "# linear scale only shows the spike.\n",
    "z = VFRRTnodes\n",
    "\n",
    "#z = ma.masked_where(z >= MaxNodes, z)\n",
    "z = ma.masked_where(z <= 0, z)\n",
    "\n",
    "\n",
    "fig = plt.figure()\n",
    "cs = plt.contourf(X, Y, z, cmap=cm.PuBu_r)\n",
    "plt.xlabel('lambda steps')\n",
    "plt.ylabel('Es')\n",
    "\n",
    "plt.title('VFRRTnodes')\n",
    "cbar = plt.colorbar()\n",
    "\n",
    "\n",
    "\n"
   ]
  },
  {
   "cell_type": "code",
   "execution_count": 27,
   "metadata": {
    "ExecuteTime": {
     "end_time": "2016-05-20T11:20:18.715261",
     "start_time": "2016-05-20T11:20:18.679099"
    },
    "collapsed": true
   },
   "outputs": [],
   "source": [
    "\n",
    "\n",
    "import matplotlib.pyplot as plt\n",
    "import numpy as np\n",
    "from numpy import ma\n",
    "from matplotlib import colors, ticker, cm\n",
    "from matplotlib.mlab import bivariate_normal\n",
    "\n",
    "x = lambdaNsteps_range\n",
    "y = Es_range\n",
    "\n",
    "X, Y = np.meshgrid(x, y)\n",
    "\n",
    "# A low hump with a spike coming out of the top right.\n",
    "# Needs to have z/colour axis on a log scale so we see both hump and spike.\n",
    "# linear scale only shows the spike.\n",
    "z = VFRRTsuccess\n",
    "\n",
    "#z = ma.masked_where(z >= MaxNodes, z)\n",
    "z = ma.masked_where(z <= 0, z)\n",
    "\n",
    "\n",
    "#fig = plt.figure()\n",
    "#cs = plt.contourf(X, Y, z, cmap=cm.PuBu_r)\n",
    "#plt.xlabel('lambda steps')\n",
    "#plt.ylabel('Ein')\n",
    "\n",
    "#plt.title('VFRRTsuccess')\n",
    "#cbar = plt.colorbar()\n",
    "\n",
    "\n",
    "\n"
   ]
  },
  {
   "cell_type": "code",
   "execution_count": 28,
   "metadata": {
    "ExecuteTime": {
     "end_time": "2016-05-20T11:20:19.167039",
     "start_time": "2016-05-20T11:20:18.726157"
    },
    "collapsed": true
   },
   "outputs": [],
   "source": [
    "import matplotlib.pyplot as plt\n",
    "import numpy as np\n",
    "from numpy import ma\n",
    "from matplotlib import colors, ticker, cm\n",
    "from matplotlib.mlab import bivariate_normal\n",
    "\n",
    "x = lambdaNsteps_range\n",
    "y = Es_range\n",
    "\n",
    "X, Y = np.meshgrid(x, y)\n",
    "\n",
    "# A low hump with a spike coming out of the top right.\n",
    "# Needs to have z/colour axis on a log scale so we see both hump and spike.\n",
    "# linear scale only shows the spike.\n",
    "z = VFRRTwork\n",
    "\n",
    "#z = ma.masked_where(z >= MaxNodes, z)\n",
    "z = ma.masked_where(z <= 0, z)\n",
    "\n",
    "\n",
    "fig = plt.figure()\n",
    "cs = plt.contourf(X, Y, z, cmap=cm.PuBu_r)\n",
    "plt.xlabel('lambda steps')\n",
    "plt.ylabel('Es')\n",
    "\n",
    "plt.title('VFRRTwork')\n",
    "cbar = plt.colorbar()\n",
    "\n",
    "\n",
    "\n"
   ]
  },
  {
   "cell_type": "code",
   "execution_count": 29,
   "metadata": {
    "ExecuteTime": {
     "end_time": "2016-05-20T11:20:19.472419",
     "start_time": "2016-05-20T11:20:19.169299"
    },
    "collapsed": true
   },
   "outputs": [],
   "source": [
    "import matplotlib.pyplot as plt\n",
    "import numpy as np\n",
    "from numpy import ma\n",
    "from matplotlib import colors, ticker, cm\n",
    "from matplotlib.mlab import bivariate_normal\n",
    "\n",
    "x = lambdaNsteps_range\n",
    "y = Es_range\n",
    "\n",
    "X, Y = np.meshgrid(x, y)\n",
    "\n",
    "# A low hump with a spike coming out of the top right.\n",
    "# Needs to have z/colour axis on a log scale so we see both hump and spike.\n",
    "# linear scale only shows the spike.\n",
    "z = VFRRTupstream\n",
    "\n",
    "#z = ma.masked_where(z >= MaxNodes, z)\n",
    "z = ma.masked_where(z <= 0, z)\n",
    "\n",
    "\n",
    "fig = plt.figure()\n",
    "cs = plt.contourf(X, Y, z, cmap=cm.PuBu_r)\n",
    "plt.xlabel('lambda steps')\n",
    "plt.ylabel('Es')\n",
    "\n",
    "plt.title('VFRRTupstream')\n",
    "cbar = plt.colorbar()\n",
    "\n",
    "\n",
    "\n",
    "#plt.show()"
   ]
  },
  {
   "cell_type": "code",
   "execution_count": 30,
   "metadata": {
    "ExecuteTime": {
     "end_time": "2016-05-20T11:25:10.771396",
     "start_time": "2016-05-20T11:20:19.474537"
    },
    "collapsed": true
   },
   "outputs": [],
   "source": [
    "import matplotlib.pyplot as plt\n",
    "import numpy as np\n",
    "from numpy import ma\n",
    "from matplotlib import colors, ticker, cm\n",
    "from matplotlib.mlab import bivariate_normal\n",
    "\n",
    "x = lambdaNsteps_range\n",
    "y = Es_range\n",
    "\n",
    "X, Y = np.meshgrid(x, y)\n",
    "\n",
    "# A low hump with a spike coming out of the top right.\n",
    "# Needs to have z/colour axis on a log scale so we see both hump and spike.\n",
    "# linear scale only shows the spike.\n",
    "z = VFRRTexetime\n",
    "\n",
    "#z = ma.masked_where(z >= MaxNodes, z)\n",
    "z = ma.masked_where(z <= 0, z)\n",
    "\n",
    "\n",
    "fig = plt.figure()\n",
    "cs = plt.contourf(X, Y, z, cmap=cm.PuBu_r)\n",
    "plt.xlabel('lambda steps')\n",
    "plt.ylabel('Es')\n",
    "\n",
    "plt.title('VFRRTexetime')\n",
    "cbar = plt.colorbar()\n",
    "\n",
    "\n",
    "\n",
    "plt.show()"
   ]
  }
 ],
 "metadata": {
  "kernelspec": {
   "display_name": "Python 3",
   "language": "python",
   "name": "python3"
  },
  "language_info": {
   "codemirror_mode": {
    "name": "ipython",
    "version": 3
   },
   "file_extension": ".py",
   "mimetype": "text/x-python",
   "name": "python",
   "nbconvert_exporter": "python",
   "pygments_lexer": "ipython3",
   "version": "3.5.1"
  },
  "toc": {
   "toc_cell": false,
   "toc_number_sections": false,
   "toc_section_display": "block",
   "toc_threshold": 6,
   "toc_window_display": true
  },
  "toc_position": {
   "height": "243px",
   "left": "997px",
   "right": "150px",
   "top": "76.8667px",
   "width": "293px"
  }
 },
 "nbformat": 4,
 "nbformat_minor": 0
}
