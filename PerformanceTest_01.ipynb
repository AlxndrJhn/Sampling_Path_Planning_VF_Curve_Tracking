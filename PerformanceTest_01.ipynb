{
 "cells": [
  {
   "cell_type": "markdown",
   "metadata": {
    "collapsed": true
   },
   "source": []
  },
  {
   "cell_type": "markdown",
   "metadata": {
    "ExecuteTime": {
     "end_time": "2016-04-12T11:53:30.250034",
     "start_time": "2016-04-12T11:53:30.235961"
    },
    "collapsed": true,
    "run_control": {
     "marked": false
    }
   },
   "source": [
    "# Implicit Trajectory combined with RRT #\n",
    "- Work space: 3D with obstacles\n",
    "- Obstacle type: static and known\n",
    "- Agent Model: Dubins airplane (Owen2015)\n",
    "- Integration Algorithm: 4th Order Runge Kutta\n",
    "- Implicit Curve: Time-invariant Circle\n",
    "- Distance Metric: admissionable heuristic, based on time-optimal dubins-airplane paths (altitude difference is integrated in a linear fashion)"
   ]
  },
  {
   "cell_type": "code",
   "execution_count": 9,
   "metadata": {
    "ExecuteTime": {
     "end_time": "2016-05-09T16:39:28.025454",
     "start_time": "2016-05-09T16:39:25.069658"
    },
    "collapsed": true,
    "run_control": {
     "marked": false
    }
   },
   "outputs": [],
   "source": [
    "# load the code\n",
    "%run 'MAIN_CODE.ipynb'\n",
    "import random\n",
    "random.seed( 99 ) #arbitrary"
   ]
  },
  {
   "cell_type": "markdown",
   "metadata": {
    "ExecuteTime": {
     "end_time": "2016-04-12T11:00:30.033027",
     "start_time": "2016-04-12T11:00:29.977472"
    },
    "collapsed": false,
    "run_control": {
     "marked": false
    }
   },
   "source": [
    "# Performance Experiments"
   ]
  },
  {
   "cell_type": "markdown",
   "metadata": {
    "collapsed": true,
    "run_control": {
     "marked": false
    }
   },
   "source": [
    "## 1st stage: VF-RRT+impl.Curve vs. RRT+goal bias"
   ]
  },
  {
   "cell_type": "code",
   "execution_count": 10,
   "metadata": {
    "ExecuteTime": {
     "end_time": "2016-05-09T16:39:28.047424",
     "start_time": "2016-05-09T16:39:28.027569"
    },
    "collapsed": true,
    "run_control": {
     "marked": true
    }
   },
   "outputs": [],
   "source": [
    "import time\n",
    "\n",
    "#Parameters in General\n",
    "NumOfExperiments = 10\n",
    "qstart = np.array([5.,5.,2.,np.pi])# specific initial point\n",
    "MaxNodes = 300\n",
    "MAXiter = MaxNodes*3\n",
    "\n",
    "# Experiment parameters for VF-RRT\n",
    "lambdaNsteps=40\n",
    "Es=0.4\n",
    "lamdb=1.0\n",
    "\n",
    "# Experiment parameters for naive RRT\n",
    "goalBias=0.25"
   ]
  },
  {
   "cell_type": "code",
   "execution_count": 11,
   "metadata": {
    "ExecuteTime": {
     "end_time": "2016-05-09T16:39:28.315060",
     "start_time": "2016-05-09T16:39:28.049362"
    },
    "collapsed": true,
    "run_control": {
     "marked": false
    }
   },
   "outputs": [],
   "source": [
    "#specific obstacles, fixed, known, not moving\n",
    "# reset the RNG\n",
    "random.seed( 500 ) #arbitrary\n",
    "Obstacles = CreateSphericalObstacles(N=100,r=2.)\n",
    "while isBlocked(qstart, Obstacles):\n",
    "    Obstacles = CreateSphericalObstacles(N=100,r=2.)"
   ]
  },
  {
   "cell_type": "code",
   "execution_count": 12,
   "metadata": {
    "ExecuteTime": {
     "end_time": "2016-05-09T16:39:51.938557",
     "start_time": "2016-05-09T16:39:28.318294"
    },
    "collapsed": false,
    "run_control": {
     "marked": true
    },
    "scrolled": false
   },
   "outputs": [
    {
     "name": "stdout",
     "output_type": "stream",
     "text": [
      "#\tt\tsuccess\twork\tupstr\tnodes\titer\teuDist\tangDist\thiLim\tloLim\n",
      "VFRRT\n",
      "0\t0.458\tTrue\t4.720\t1.188\t79\t79\t4.849\t13.217\tFalse\tFalse\n",
      "1\t0.334\tTrue\t4.515\t1.781\t75\t75\t4.706\t13.397\tFalse\tFalse\n",
      "2\t0.341\tTrue\t4.591\t2.042\t79\t79\t4.807\t15.929\tFalse\tFalse\n",
      "3\t0.302\tTrue\t4.719\t2.636\t72\t72\t5.001\t14.722\tFalse\tFalse\n",
      "4\t0.477\tTrue\t4.638\t1.423\t87\t87\t4.790\t14.255\tFalse\tFalse\n",
      "5\t0.445\tTrue\t4.497\t1.960\t76\t76\t4.710\t10.952\tFalse\tFalse\n",
      "6\t0.573\tTrue\t5.068\t4.184\t101\t101\t5.499\t16.245\tFalse\tFalse\n",
      "7\t0.375\tTrue\t4.721\t1.871\t68\t68\t4.922\t17.183\tFalse\tFalse\n",
      "8\t0.363\tTrue\t4.390\t6.726\t70\t70\t5.103\t17.122\tFalse\tFalse\n",
      "9\t0.345\tTrue\t4.627\t1.753\t78\t78\t4.814\t12.187\tFalse\tFalse\n",
      "\n",
      "Stats for successful runs only\n",
      "100%\t0.302\tTrue\t4.390\t1.188\t68\t68\t4.706\t10.952\tmin\n",
      "100%\t0.401\tTrue\t4.648\t2.556\t78\t78\t4.920\t14.521\tmean\n",
      "100%\t0.573\tTrue\t5.068\t6.726\t101\t101\t5.499\t17.183\tmax\n",
      "\n",
      "100%\t0.080\tTrue\t0.174\t1.598\t9\t9\t0.226\t2.002\tstd\n",
      "\n",
      "RRT\n",
      "0\t1.522\tFalse\t\t\t300\t300\t\t\n",
      "1\t1.521\tFalse\t\t\t300\t313\t\t\n",
      "2\t1.634\tFalse\t\t\t300\t301\t\t\n",
      "3\t2.510\tFalse\t\t\t300\t403\t\t\n",
      "4\t2.078\tFalse\t\t\t300\t346\t\t\n",
      "5\t1.852\tFalse\t\t\t300\t418\t\t\n",
      "6\t1.961\tFalse\t\t\t300\t401\t\t\n",
      "7\t1.865\tFalse\t\t\t300\t356\t\t\n",
      "8\t1.933\tFalse\t\t\t300\t371\t\t\n",
      "9\t1.404\tFalse\t\t\t300\t300\t\t\n"
     ]
    }
   ],
   "source": [
    "# initilize\n",
    "VFRRTnodes = list()\n",
    "VFRRTupstream = list()\n",
    "VFRRTnodes = list()\n",
    "VFRRTexetime = list()\n",
    "VFRRTwork = list()\n",
    "VFRRTsuccess = list()\n",
    "VFRRTiter = list()\n",
    "VFRRTeuclLength = list()\n",
    "VFRRTanglLength = list()\n",
    "    \n",
    "RRTnodes = list()\n",
    "RRTupstream = list()\n",
    "RRTnodes = list()\n",
    "RRTexetime = list()\n",
    "RRTwork = list()\n",
    "RRTsuccess = list()\n",
    "RRTiter = list()\n",
    "RRTeuclLength = list()\n",
    "RRTanglLength = list()\n",
    "\n",
    "print('#\\tt\\tsuccess\\twork\\tupstr\\tnodes\\titer\\teuDist\\tangDist\\thiLim\\tloLim')\n",
    "print('VFRRT')\n",
    "for IofExp in range(0,NumOfExperiments):\n",
    "    # Execute and return Tree\n",
    "    stampBegin = time.process_time()\n",
    "    T = VFRRT(qstart,VF,lambdaNsteps,Es,lamdb,MaxNodes,MAXiter,Obstacles,bounds=bounds)\n",
    "    CPUtimePassed = time.process_time()-stampBegin\n",
    "\n",
    "    \n",
    "    if T.successful:\n",
    "        VFRRTexetime.append(CPUtimePassed)\n",
    "        VFRRTiter.append(T.iterations)\n",
    "        VFRRTsuccess.append(IofExp)\n",
    "        IDpath,Datapath,Edgepath = T.get_solution()\n",
    "        work,upstream = T.get_WorkAndUpstreamOfPath(Datapath)\n",
    "        euclDist,anglDist = T.get_length(Datapath)\n",
    "        VFRRTnodes.append(T.NumNodes)\n",
    "        VFRRTupstream.append(upstream)\n",
    "        VFRRTwork.append(work)\n",
    "        VFRRTeuclLength.append(euclDist)\n",
    "        VFRRTanglLength.append(anglDist)\n",
    "        \n",
    "        print('%d\\t%.3f\\tTrue\\t%.3f\\t%.3f\\t%d\\t%d\\t%.3f\\t%.3f\\t%s\\t%s' % (IofExp,CPUtimePassed,work,upstream,T.NumNodes,T.iterations,euclDist,anglDist,str(T.lambd_high),str(T.lambd_low)))\n",
    "    else:\n",
    "        print('%d\\t%.3f\\tFalse\\t\\t\\t%d\\t%d\\t\\t\\t%s\\t%s' % (IofExp,CPUtimePassed,T.NumNodes,T.iterations,str(T.lambd_high),str(T.lambd_low)))\n",
    "    \n",
    "    #T.plot(DrawTrajectory=True,DrawCollisionNodes=True)\n",
    "    #T.plot(obs=Obstacles,OnlyClosestObs=True,DrawCollisionNodes=True)\n",
    "    #DrawStats(T)\n",
    "\n",
    "print('\\nStats for successful runs only\\n%.1d%%\\t%.3f\\tTrue\\t%.3f\\t%.3f\\t%d\\t%d\\t%.3f\\t%.3f\\tmin' % (\n",
    "                                                                len(VFRRTsuccess)*100./NumOfExperiments,\n",
    "                                                                np.min(VFRRTexetime),\n",
    "                                                                np.min(VFRRTwork),\n",
    "                                                                np.min(VFRRTupstream),\n",
    "                                                                np.min(VFRRTnodes),\n",
    "                                                                np.min(VFRRTiter),\n",
    "                                                                np.min(VFRRTeuclLength),\n",
    "                                                                np.min(VFRRTanglLength)))\n",
    "print('%.1d%%\\t%.3f\\tTrue\\t%.3f\\t%.3f\\t%d\\t%d\\t%.3f\\t%.3f\\tmean' % (\n",
    "                                                                len(VFRRTsuccess)*100./NumOfExperiments,\n",
    "                                                                np.mean(VFRRTexetime),\n",
    "                                                                np.mean(VFRRTwork),\n",
    "                                                                np.mean(VFRRTupstream),\n",
    "                                                                np.mean(VFRRTnodes),\n",
    "                                                                np.mean(VFRRTiter),\n",
    "                                                                np.mean(VFRRTeuclLength),\n",
    "                                                                np.mean(VFRRTanglLength)))\n",
    "print('%.1d%%\\t%.3f\\tTrue\\t%.3f\\t%.3f\\t%d\\t%d\\t%.3f\\t%.3f\\tmax' % (\n",
    "                                                                len(VFRRTsuccess)*100./NumOfExperiments,\n",
    "                                                                np.max(VFRRTexetime),\n",
    "                                                                np.max(VFRRTwork),\n",
    "                                                                np.max(VFRRTupstream),\n",
    "                                                                np.max(VFRRTnodes),\n",
    "                                                                np.max(VFRRTiter),\n",
    "                                                                np.max(VFRRTeuclLength),\n",
    "                                                                np.max(VFRRTanglLength)))\n",
    "print('\\n%.1d%%\\t%.3f\\tTrue\\t%.3f\\t%.3f\\t%d\\t%d\\t%.3f\\t%.3f\\tstd\\n' % (\n",
    "                                                                len(VFRRTsuccess)*100./NumOfExperiments,\n",
    "                                                                np.std(VFRRTexetime),\n",
    "                                                                np.std(VFRRTwork),\n",
    "                                                                np.std(VFRRTupstream),\n",
    "                                                                np.std(VFRRTnodes),\n",
    "                                                                np.std(VFRRTiter),\n",
    "                                                                np.std(VFRRTeuclLength),\n",
    "                                                                np.std(VFRRTanglLength)))\n",
    "print('RRT')\n",
    "for IofExp in range(0,NumOfExperiments):\n",
    "    gt = np.mod(IofExp/NumOfExperiments*2*np.pi+np.pi/2,2*np.pi)\n",
    "    qgoal=(\n",
    "        xc+r*np.cos(2*np.pi*IofExp/NumOfExperiments),\n",
    "        yc+r*np.sin(2*np.pi*IofExp/NumOfExperiments),\n",
    "        zc,\n",
    "        gt\n",
    "    )\n",
    "    stampBegin = time.process_time()\n",
    "    #pdb.set_trace()\n",
    "    T = RRT(qstart,qgoal,MaxNodes,MAXiter,Obstacles,bounds,goalBias)\n",
    "    CPUtimePassed = time.process_time()-stampBegin\n",
    "\n",
    "    \n",
    "    if T.successful:\n",
    "        RRTexetime.append(CPUtimePassed)\n",
    "        RRTiter.append(T.iterations)\n",
    "        T.VF = VF\n",
    "        RRTsuccess.append(IofExp)\n",
    "        IDpath,Datapath,Edgepath = T.get_solution()\n",
    "        work,upstream = T.get_WorkAndUpstreamOfPath(Datapath)\n",
    "        euclDist,anglDist = T.get_length(Datapath)\n",
    "        RRTnodes.append(T.NumNodes)\n",
    "        RRTupstream.append(upstream)\n",
    "        RRTwork.append(work)\n",
    "        RRTeuclLength.append(euclDist)\n",
    "        RRTanglLength.append(anglDist)\n",
    "        \n",
    "        print('%d\\t%.3f\\tTrue\\t%.3f\\t%.3f\\t%d\\t%d\\t%.3f\\t%.3f' % (IofExp,CPUtimePassed,work,upstream,T.NumNodes,T.iterations,euclDist,anglDist))\n",
    "    else:\n",
    "        print('%d\\t%.3f\\tFalse\\t\\t\\t%d\\t%d\\t\\t' % (IofExp,CPUtimePassed,T.NumNodes,T.iterations))\n",
    "    #T.plot(obs=Obstacles,OnlyClosestObs=True,DrawCollisionNodes=True)\n",
    "#plt.show()\n",
    "if len(RRTsuccess):\n",
    "    print('\\nStats for successful runs only\\n%.1d%%\\t%.3f\\tTrue\\t%.3f\\t%.3f\\t%d\\t%d\\t%.3f\\t%.3f\\tmin' % (\n",
    "                                                                    len(RRTsuccess)*100./NumOfExperiments,\n",
    "                                                                    np.min(RRTexetime),\n",
    "                                                                    np.min(RRTwork),\n",
    "                                                                    np.min(RRTupstream),\n",
    "                                                                    np.min(RRTnodes),\n",
    "                                                                    np.min(RRTiter),\n",
    "                                                                    np.min(RRTeuclLength),\n",
    "                                                                    np.min(RRTanglLength)))\n",
    "\n",
    "    print('%.1d%%\\t%.3f\\tTrue\\t%.3f\\t%.3f\\t%d\\t%d\\t%.3f\\t%.3f\\tmean' % (\n",
    "                                                                    len(RRTsuccess)*100./NumOfExperiments,\n",
    "                                                                    np.mean(RRTexetime),\n",
    "                                                                    np.mean(RRTwork),\n",
    "                                                                    np.mean(RRTupstream),\n",
    "                                                                    np.mean(RRTnodes),\n",
    "                                                                    np.mean(RRTiter),\n",
    "                                                                    np.mean(RRTeuclLength),\n",
    "                                                                    np.mean(RRTanglLength)))\n",
    "    print('%.1d%%\\t%.3f\\tTrue\\t%.3f\\t%.3f\\t%d\\t%d\\t%.3f\\t%.3f\\tmax' % (\n",
    "                                                                    len(RRTsuccess)*100./NumOfExperiments,\n",
    "                                                                    np.max(RRTexetime),\n",
    "                                                                    np.max(RRTwork),\n",
    "                                                                    np.max(RRTupstream),\n",
    "                                                                    np.max(RRTnodes),\n",
    "                                                                    np.max(RRTiter),\n",
    "                                                                    np.max(RRTeuclLength),\n",
    "                                                                    np.max(RRTanglLength)))\n",
    "    print('\\n%.1d%%\\t%.3f\\tTrue\\t%.3f\\t%.3f\\t%d\\t%d\\t%.3f\\t%.3f\\tstd\\n' % (\n",
    "                                                                    len(RRTsuccess)*100./NumOfExperiments,\n",
    "                                                                    np.std(RRTexetime),\n",
    "                                                                    np.std(RRTwork),\n",
    "                                                                    np.std(RRTupstream),\n",
    "                                                                    np.std(RRTnodes),\n",
    "                                                                    np.std(RRTiter),\n",
    "                                                                    np.std(RRTeuclLength),\n",
    "                                                                    np.std(RRTanglLength)))\n",
    "\n"
   ]
  },
  {
   "cell_type": "code",
   "execution_count": null,
   "metadata": {
    "collapsed": true,
    "run_control": {
     "marked": false
    }
   },
   "outputs": [],
   "source": []
  }
 ],
 "metadata": {
  "kernelspec": {
   "display_name": "Python 3",
   "language": "python",
   "name": "python3"
  },
  "language_info": {
   "codemirror_mode": {
    "name": "ipython",
    "version": 3
   },
   "file_extension": ".py",
   "mimetype": "text/x-python",
   "name": "python",
   "nbconvert_exporter": "python",
   "pygments_lexer": "ipython3",
   "version": "3.5.1"
  },
  "toc": {
   "toc_cell": false,
   "toc_number_sections": false,
   "toc_section_display": "block",
   "toc_threshold": 6,
   "toc_window_display": true
  },
  "toc_position": {
   "height": "461px",
   "left": "1158px",
   "right": "3px",
   "top": "134px",
   "width": "279px"
  }
 },
 "nbformat": 4,
 "nbformat_minor": 0
}
